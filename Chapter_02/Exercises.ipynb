{
 "cells": [
  {
   "cell_type": "code",
   "execution_count": 1,
   "metadata": {},
   "outputs": [],
   "source": [
    "%load_ext autoreload\n",
    "%autoreload 2"
   ]
  },
  {
   "cell_type": "code",
   "execution_count": 2,
   "metadata": {},
   "outputs": [
    {
     "name": "stderr",
     "output_type": "stream",
     "text": [
      "/tmp/ipykernel_1586/1799943160.py:3: DeprecationWarning: `set_matplotlib_formats` is deprecated since IPython 7.23, directly use `matplotlib_inline.backend_inline.set_matplotlib_formats()`\n",
      "  set_matplotlib_formats('png', 'pdf')\n"
     ]
    }
   ],
   "source": [
    "%matplotlib inline\n",
    "from IPython.display import set_matplotlib_formats\n",
    "set_matplotlib_formats('png', 'pdf')"
   ]
  },
  {
   "cell_type": "code",
   "execution_count": 3,
   "metadata": {},
   "outputs": [],
   "source": [
    "import os\n",
    "import mlflow\n",
    "os.environ['MLFLOW_TRACKING_URI'] = './mlruns'\n",
    "mlflow.set_tracking_uri(os.environ.get('MLFLOW_TRACKING_URI'))"
   ]
  },
  {
   "cell_type": "markdown",
   "metadata": {},
   "source": [
    "## 1\n",
    "\n"
   ]
  },
  {
   "cell_type": "markdown",
   "metadata": {},
   "source": [
    "<img src=\"./images/01.png\" width=800>"
   ]
  },
  {
   "cell_type": "code",
   "execution_count": 3,
   "metadata": {},
   "outputs": [
    {
     "name": "stderr",
     "output_type": "stream",
     "text": [
      "2025/04/06 10:25:39 INFO mlflow.tracking.fluent: Experiment with name 'Exercise_1' does not exist. Creating a new experiment.\n"
     ]
    },
    {
     "data": {
      "text/plain": [
       "<Experiment: artifact_location='/home/spakdel/my_projects/Books/Inside-Deep-Learning/Exercises_InsideDeepLearning/Chapter_02/mlruns/773631873264077024', creation_time=1743922539674, experiment_id='773631873264077024', last_update_time=1743922539674, lifecycle_stage='active', name='Exercise_1', tags={}>"
      ]
     },
     "execution_count": 3,
     "metadata": {},
     "output_type": "execute_result"
    }
   ],
   "source": [
    "mlflow.set_experiment('Exercise_1')\n",
    "# mlflow.start_run(run_name='Exercise_1')"
   ]
  },
  {
   "cell_type": "code",
   "execution_count": 4,
   "metadata": {},
   "outputs": [
    {
     "name": "stderr",
     "output_type": "stream",
     "text": [
      "/home/spakdel/my_projects/Books/Inside-Deep-Learning/Exercises_InsideDeepLearning/Chapter_02/utils.py:6: TqdmWarning: IProgress not found. Please update jupyter and ipywidgets. See https://ipywidgets.readthedocs.io/en/stable/user_install.html\n",
      "  from tqdm.autonotebook import tqdm\n"
     ]
    }
   ],
   "source": [
    "import torch\n",
    "from torch.utils.data import DataLoader, Dataset\n",
    "import numpy as np\n",
    "import seaborn as sns\n",
    "import torch.nn as nn\n",
    "import matplotlib.pyplot as plt\n",
    "import torch.optim as optim\n",
    "from sklearn.metrics import mean_squared_error\n",
    "from torchinfo import summary\n",
    "from utils import train_simple_network, plot_data_and_predictions, plot_loss, set_seed"
   ]
  },
  {
   "cell_type": "code",
   "execution_count": 5,
   "metadata": {},
   "outputs": [
    {
     "data": {
      "text/plain": [
       "<Axes: >"
      ]
     },
     "execution_count": 5,
     "metadata": {},
     "output_type": "execute_result"
    },
    {
     "data": {
      "image/png": "[encoded data removed]",
      "text/plain": [
       "<Figure size 640x480 with 1 Axes>"
      ]
     },
     "metadata": {},
     "output_type": "display_data"
    }
   ],
   "source": [
    "set_seed(42)\n",
    "X = np.linspace(0, 20, 200)\n",
    "Y = X + 2 * np.sin(X) + np.random.normal(size = X.shape)\n",
    "sns.scatterplot(x=X, y=Y)"
   ]
  },
  {
   "cell_type": "code",
   "execution_count": 6,
   "metadata": {},
   "outputs": [],
   "source": [
    "set_seed(42)\n",
    "class SimpleRegressionDataset(Dataset):\n",
    "    def __init__(self, X , Y):\n",
    "        self.X = X.reshape(-1, 1)\n",
    "        self.Y = Y.reshape(-1, 1)\n",
    "\n",
    "    def __len__(self):\n",
    "        return len(self.X)\n",
    "\n",
    "    def __getitem__(self, idx):\n",
    "        X_tensor = torch.tensor(self.X[idx], dtype=torch.float32)\n",
    "        Y_tensor = torch.tensor(self.Y[idx], dtype=torch.float32)\n",
    "        return X_tensor, Y_tensor\n",
    "\n",
    "training_loader = DataLoader(SimpleRegressionDataset(X, Y), shuffle=True)"
   ]
  },
  {
   "cell_type": "code",
   "execution_count": 7,
   "metadata": {},
   "outputs": [
    {
     "name": "stderr",
     "output_type": "stream",
     "text": [
      "Epoch: 100%|██████████| 50/50 [00:31<00:00,  1.61it/s]\n",
      "2025/04/06 10:26:49 WARNING mlflow.utils.requirements_utils: Found torch version (2.4.1+cpu) contains a local version label (+cpu). MLflow logged a pip requirement for this package as 'torch==2.4.1' without the local version label to make it installable from PyPI. To specify pip requirements containing local version labels, please use `conda_env` or `pip_requirements`.\n",
      "2025/04/06 10:27:19 WARNING mlflow.utils.requirements_utils: Found torch version (2.4.1+cpu) contains a local version label (+cpu). MLflow logged a pip requirement for this package as 'torch==2.4.1' without the local version label to make it installable from PyPI. To specify pip requirements containing local version labels, please use `conda_env` or `pip_requirements`.\n",
      "2025/04/06 10:27:20 WARNING mlflow.models.model: Model logged without a signature and input example. Please set `input_example` parameter when logging the model to auto infer the model signature.\n"
     ]
    }
   ],
   "source": [
    "set_seed(42)\n",
    "n = 212\n",
    "layers = 5\n",
    "in_features = 1\n",
    "out_features = 1\n",
    "\n",
    "activation = nn.LeakyReLU()\n",
    "sequential_layer = [\n",
    "    nn.Linear(in_features, n),\n",
    "    activation\n",
    "]\n",
    "for _ in range(layers):\n",
    "    sequential_layer.append(nn.Linear(n, n))\n",
    "    sequential_layer.append(activation)\n",
    "sequential_layer.append(nn.Linear(n, out_features))\n",
    "model = nn.Sequential(*sequential_layer)\n",
    "\n",
    "loss_func = nn.MSELoss(reduction='sum')\n",
    "epochs = 50\n",
    "device = torch.device('cuda') if torch.cuda.is_available() else torch.device('cpu')\n",
    "optimizer = optim.SGD(model.parameters(), lr=0.001)\n",
    "\n",
    "\n",
    "with mlflow.start_run(nested=True, run_name='without_scaling'):\n",
    "    mlflow.log_params({\n",
    "        'epochs': epochs,\n",
    "        'device': device,\n",
    "        'optimizer': optimizer.defaults,\n",
    "        'loss_func': loss_func.__class__.__name__\n",
    "    })\n",
    "    with open('model_summary.txt', 'w') as f:\n",
    "        f.write(str(summary(model)))\n",
    "    mlflow.log_artifact('model_summary.txt')\n",
    "    \n",
    "    loss = train_simple_network(\n",
    "        model=model,\n",
    "        loss_func=loss_func,\n",
    "        training_loader= training_loader,\n",
    "        optimizer=optimizer,\n",
    "        disable_tqdm=False,\n",
    "        epochs=epochs)\n",
    "    \n",
    "    mlflow.log_figure(plot_loss(loss), 'loss.png')\n",
    "    with torch.no_grad():\n",
    "        Y_pred = model(torch.tensor(X.reshape(-1, 1), dtype=torch.float32)).numpy()\n",
    "    mlflow.log_figure(plot_data_and_predictions(X, Y, Y_pred), 'data_model.png')\n",
    "    mlflow.pytorch.log_model(model, 'model')\n",
    "    mlflow.log_metric('loss_entire_dataset', mean_squared_error(Y, Y_pred.ravel()))  #Loss on the entire dataset, not on a single batch."
   ]
  },
  {
   "cell_type": "code",
   "execution_count": null,
   "metadata": {},
   "outputs": [
    {
     "data": {
      "text/plain": [
       "(1.9263681689828809, np.float64(3.2934337754510623))"
      ]
     },
     "execution_count": 11,
     "metadata": {},
     "output_type": "execute_result"
    }
   ],
   "source": [
    "print(loss[-1])    #This value represents the average loss for the mini-batches during the final epoch of training.\n",
    "mean_squared_error(Y, Y_pred.ravel())   #This is calculated post-training using the entire dataset, without batch processing or sampling."
   ]
  },
  {
   "cell_type": "markdown",
   "metadata": {},
   "source": [
    "### Scaling Input"
   ]
  },
  {
   "cell_type": "code",
   "execution_count": 8,
   "metadata": {},
   "outputs": [],
   "source": [
    "from sklearn.preprocessing import StandardScaler\n",
    "\n",
    "input_scaler = StandardScaler()\n",
    "scaled_X = input_scaler.fit_transform(X.reshape(-1, 1))\n",
    "training_loader = DataLoader(SimpleRegressionDataset(scaled_X, Y), shuffle=True)\n",
    "# mse = train_simple_network(model, loss_func, training_loader, epochs=100)"
   ]
  },
  {
   "cell_type": "code",
   "execution_count": 9,
   "metadata": {},
   "outputs": [
    {
     "name": "stderr",
     "output_type": "stream",
     "text": [
      "Epoch: 100%|██████████| 50/50 [00:35<00:00,  1.41it/s]\n",
      "2025/04/06 10:28:19 WARNING mlflow.utils.requirements_utils: Found torch version (2.4.1+cpu) contains a local version label (+cpu). MLflow logged a pip requirement for this package as 'torch==2.4.1' without the local version label to make it installable from PyPI. To specify pip requirements containing local version labels, please use `conda_env` or `pip_requirements`.\n",
      "2025/04/06 10:28:31 WARNING mlflow.utils.requirements_utils: Found torch version (2.4.1+cpu) contains a local version label (+cpu). MLflow logged a pip requirement for this package as 'torch==2.4.1' without the local version label to make it installable from PyPI. To specify pip requirements containing local version labels, please use `conda_env` or `pip_requirements`.\n",
      "2025/04/06 10:28:31 WARNING mlflow.models.model: Model logged without a signature and input example. Please set `input_example` parameter when logging the model to auto infer the model signature.\n"
     ]
    }
   ],
   "source": [
    "set_seed(42)\n",
    "n = 212\n",
    "layers = 5\n",
    "in_features = 1\n",
    "out_features = 1\n",
    "\n",
    "activation = nn.LeakyReLU()\n",
    "sequential_layer = [\n",
    "    nn.Linear(in_features, n),\n",
    "    activation\n",
    "]\n",
    "for _ in range(layers):\n",
    "    sequential_layer.append(nn.Linear(n, n))\n",
    "    sequential_layer.append(activation)\n",
    "sequential_layer.append(nn.Linear(n, out_features))\n",
    "model = nn.Sequential(*sequential_layer)\n",
    "\n",
    "loss_func = nn.MSELoss(reduction='sum')\n",
    "epochs = 50\n",
    "device = torch.device('cuda') if torch.cuda.is_available() else torch.device('cpu')\n",
    "optimizer = optim.SGD(model.parameters(), lr=0.001)\n",
    "\n",
    "with mlflow.start_run(nested=True, run_name='input_scaling'):\n",
    "    mlflow.log_params({\n",
    "        'epochs': epochs,\n",
    "        'device': device,\n",
    "        'optimizer': optimizer.defaults,\n",
    "        'loss_func': loss_func.__class__.__name__\n",
    "    })\n",
    "    with open('model_summary.txt', 'w') as f:\n",
    "        f.write(str(summary(model)))\n",
    "    mlflow.log_artifact('model_summary.txt')\n",
    "    \n",
    "    loss = train_simple_network(\n",
    "        model=model,\n",
    "        loss_func=loss_func,\n",
    "        training_loader= training_loader,\n",
    "        optimizer=optimizer,\n",
    "        disable_tqdm=False,\n",
    "        epochs=epochs)\n",
    "    \n",
    "    mlflow.log_figure(plot_loss(loss), 'loss.png')\n",
    "    with torch.no_grad():\n",
    "        Y_pred = model(torch.tensor(scaled_X.reshape(-1, 1), dtype=torch.float32)).numpy()\n",
    "    mlflow.log_figure(plot_data_and_predictions(X, Y, Y_pred), 'data_model.png')\n",
    "    mlflow.pytorch.log_model(model, 'model')\n",
    "    mlflow.log_metric('loss_entire_dataset', mean_squared_error(Y, Y_pred.ravel()))  #Loss on the entire dataset, not on a single batch."
   ]
  },
  {
   "cell_type": "code",
   "execution_count": 49,
   "metadata": {},
   "outputs": [
    {
     "data": {
      "application/pdf": "[encoded data removed]",
      "image/png": "[encoded data removed]",
      "text/plain": [
       "<Figure size 640x480 with 1 Axes>"
      ]
     },
     "execution_count": 49,
     "metadata": {},
     "output_type": "execute_result"
    }
   ],
   "source": [
    "with torch.no_grad():\n",
    "    Y_pred = model(torch.tensor(scaled_X.reshape(-1, 1), dtype=torch.float32)).numpy()\n",
    "plot_data_and_predictions(X, Y, Y_pred)"
   ]
  },
  {
   "cell_type": "code",
   "execution_count": 50,
   "metadata": {},
   "outputs": [
    {
     "data": {
      "application/pdf": "[encoded data removed]",
      "image/png": "[encoded data removed]",
      "text/plain": [
       "<Figure size 640x480 with 1 Axes>"
      ]
     },
     "execution_count": 50,
     "metadata": {},
     "output_type": "execute_result"
    }
   ],
   "source": [
    "plot_loss(loss)"
   ]
  },
  {
   "cell_type": "code",
   "execution_count": 15,
   "metadata": {},
   "outputs": [
    {
     "name": "stdout",
     "output_type": "stream",
     "text": [
      "1.2727373226408962\n"
     ]
    },
    {
     "data": {
      "text/plain": [
       "np.float64(1.9578474999968185)"
      ]
     },
     "execution_count": 15,
     "metadata": {},
     "output_type": "execute_result"
    }
   ],
   "source": [
    "print(loss[-1])    #This value represents the average loss for the mini-batches during the final epoch of training.\n",
    "mean_squared_error(Y, Y_pred.ravel())   #This is calculated post-training using the entire dataset, without batch processing or sampling."
   ]
  },
  {
   "cell_type": "markdown",
   "metadata": {},
   "source": [
    "### Scaling output"
   ]
  },
  {
   "cell_type": "code",
   "execution_count": 10,
   "metadata": {},
   "outputs": [],
   "source": [
    "from sklearn.preprocessing import StandardScaler\n",
    "\n",
    "output_scaler = StandardScaler()\n",
    "scaled_Y = output_scaler.fit_transform(Y.reshape(-1, 1))\n",
    "\n",
    "\n",
    "training_loader = DataLoader(SimpleRegressionDataset(X, scaled_Y), shuffle=True)\n",
    "# mse = train_simple_network(model, loss_func, training_loader, epochs=100)"
   ]
  },
  {
   "cell_type": "code",
   "execution_count": 11,
   "metadata": {},
   "outputs": [
    {
     "name": "stderr",
     "output_type": "stream",
     "text": [
      "Epoch: 100%|██████████| 50/50 [00:28<00:00,  1.75it/s]\n",
      "2025/04/06 10:29:46 WARNING mlflow.utils.requirements_utils: Found torch version (2.4.1+cpu) contains a local version label (+cpu). MLflow logged a pip requirement for this package as 'torch==2.4.1' without the local version label to make it installable from PyPI. To specify pip requirements containing local version labels, please use `conda_env` or `pip_requirements`.\n",
      "2025/04/06 10:29:53 WARNING mlflow.utils.requirements_utils: Found torch version (2.4.1+cpu) contains a local version label (+cpu). MLflow logged a pip requirement for this package as 'torch==2.4.1' without the local version label to make it installable from PyPI. To specify pip requirements containing local version labels, please use `conda_env` or `pip_requirements`.\n",
      "2025/04/06 10:29:53 WARNING mlflow.models.model: Model logged without a signature and input example. Please set `input_example` parameter when logging the model to auto infer the model signature.\n"
     ]
    }
   ],
   "source": [
    "set_seed(42)\n",
    "n = 212\n",
    "layers = 5\n",
    "in_features = 1\n",
    "out_features = 1\n",
    "\n",
    "activation = nn.LeakyReLU()\n",
    "sequential_layer = [\n",
    "    nn.Linear(in_features, n),\n",
    "    activation\n",
    "]\n",
    "for _ in range(layers):\n",
    "    sequential_layer.append(nn.Linear(n, n))\n",
    "    sequential_layer.append(activation)\n",
    "sequential_layer.append(nn.Linear(n, out_features))\n",
    "model = nn.Sequential(*sequential_layer)\n",
    "\n",
    "loss_func = nn.MSELoss(reduction='sum')\n",
    "epochs = 50\n",
    "device = torch.device('cuda') if torch.cuda.is_available() else torch.device('cpu')\n",
    "optimizer = optim.SGD(model.parameters(), lr=0.001)\n",
    "\n",
    "with mlflow.start_run(nested=True, run_name='output_scaling'):\n",
    "    mlflow.log_params({\n",
    "        'epochs': epochs,\n",
    "        'device': device,\n",
    "        'optimizer': optimizer.defaults,\n",
    "        'loss_func': loss_func.__class__.__name__\n",
    "    })\n",
    "    with open('model_summary.txt', 'w') as f:\n",
    "        f.write(str(summary(model)))\n",
    "    mlflow.log_artifact('model_summary.txt')\n",
    "    \n",
    "    loss = train_simple_network(\n",
    "        model=model,\n",
    "        loss_func=loss_func,\n",
    "        training_loader= training_loader,\n",
    "        optimizer=optimizer,\n",
    "        disable_tqdm=False,\n",
    "        epochs=epochs)\n",
    "    \n",
    "    mlflow.log_figure(plot_loss(loss), 'loss.png')\n",
    "    with torch.no_grad():\n",
    "        Y_pred_scaled = model(torch.tensor(X.reshape(-1, 1), dtype=torch.float32)).numpy()\n",
    "    Y_pred = output_scaler.inverse_transform(Y_pred_scaled)\n",
    "    mlflow.log_figure(plot_data_and_predictions(X, Y, Y_pred), 'data_model.png')\n",
    "    mlflow.pytorch.log_model(model, 'model')\n",
    "    mlflow.log_metric('loss_entire_dataset', mean_squared_error(Y, Y_pred.ravel()))  #Loss on the entire dataset, not on a single batch."
   ]
  },
  {
   "cell_type": "code",
   "execution_count": null,
   "metadata": {},
   "outputs": [
    {
     "data": {
      "text/plain": [
       "<Axes: >"
      ]
     },
     "execution_count": 13,
     "metadata": {},
     "output_type": "execute_result"
    },
    {
     "data": {
      "application/pdf": "[encoded data removed]",
      "image/png": "[encoded data removed]",
      "text/plain": [
       "<Figure size 640x480 with 1 Axes>"
      ]
     },
     "metadata": {},
     "output_type": "display_data"
    }
   ],
   "source": [
    "with torch.no_grad():\n",
    "    Y_pred_scaled = model(torch.tensor(X.reshape(-1, 1), dtype=torch.float32)).numpy()\n",
    "\n",
    "Y_pred = output_scaler.inverse_transform(Y_pred_scaled)\n",
    "\n",
    "plot_data_and_predictions(X, Y, Y_pred)"
   ]
  },
  {
   "cell_type": "code",
   "execution_count": 18,
   "metadata": {},
   "outputs": [
    {
     "data": {
      "text/plain": [
       "(np.float64(2.9571463943845604), np.float64(0.08577446697027132))"
      ]
     },
     "execution_count": 18,
     "metadata": {},
     "output_type": "execute_result"
    }
   ],
   "source": [
    "from sklearn.metrics import mean_squared_error\n",
    "mean_squared_error(Y, Y_pred.ravel()), mean_squared_error(scaled_Y, Y_pred_scaled.ravel()) "
   ]
  },
  {
   "cell_type": "markdown",
   "metadata": {},
   "source": [
    "### Scaling Input and output"
   ]
  },
  {
   "cell_type": "code",
   "execution_count": 12,
   "metadata": {},
   "outputs": [],
   "source": [
    "from sklearn.preprocessing import StandardScaler\n",
    "\n",
    "out_in_scaler = StandardScaler()\n",
    "scaled_X = out_in_scaler.fit_transform(X.reshape(-1, 1))\n",
    "scaled_Y = out_in_scaler.fit_transform(Y.reshape(-1, 1))\n",
    "\n",
    "\n",
    "training_loader = DataLoader(SimpleRegressionDataset(scaled_X, scaled_Y), shuffle=True)\n",
    "# mse = train_simple_network(model, loss_func, training_loader, epochs=100)"
   ]
  },
  {
   "cell_type": "code",
   "execution_count": 13,
   "metadata": {},
   "outputs": [
    {
     "name": "stderr",
     "output_type": "stream",
     "text": [
      "Epoch:   0%|          | 0/50 [00:00<?, ?it/s]"
     ]
    },
    {
     "name": "stderr",
     "output_type": "stream",
     "text": [
      "Epoch: 100%|██████████| 50/50 [00:37<00:00,  1.34it/s]\n",
      "2025/04/06 10:31:14 WARNING mlflow.utils.requirements_utils: Found torch version (2.4.1+cpu) contains a local version label (+cpu). MLflow logged a pip requirement for this package as 'torch==2.4.1' without the local version label to make it installable from PyPI. To specify pip requirements containing local version labels, please use `conda_env` or `pip_requirements`.\n",
      "2025/04/06 10:31:23 WARNING mlflow.utils.requirements_utils: Found torch version (2.4.1+cpu) contains a local version label (+cpu). MLflow logged a pip requirement for this package as 'torch==2.4.1' without the local version label to make it installable from PyPI. To specify pip requirements containing local version labels, please use `conda_env` or `pip_requirements`.\n",
      "2025/04/06 10:31:23 WARNING mlflow.models.model: Model logged without a signature and input example. Please set `input_example` parameter when logging the model to auto infer the model signature.\n"
     ]
    }
   ],
   "source": [
    "set_seed(42)\n",
    "n = 212\n",
    "layers = 5\n",
    "in_features = 1\n",
    "out_features = 1\n",
    "\n",
    "activation = nn.LeakyReLU()\n",
    "sequential_layer = [\n",
    "    nn.Linear(in_features, n),\n",
    "    activation\n",
    "]\n",
    "for _ in range(layers):\n",
    "    sequential_layer.append(nn.Linear(n, n))\n",
    "    sequential_layer.append(activation)\n",
    "sequential_layer.append(nn.Linear(n, out_features))\n",
    "model = nn.Sequential(*sequential_layer)\n",
    "\n",
    "loss_func = nn.MSELoss(reduction='sum')\n",
    "epochs = 50\n",
    "device = torch.device('cuda') if torch.cuda.is_available() else torch.device('cpu')\n",
    "optimizer = optim.SGD(model.parameters(), lr=0.001)\n",
    "\n",
    "with mlflow.start_run(nested=True, run_name='input_output_scaling'):\n",
    "    mlflow.log_params({\n",
    "        'epochs': epochs,\n",
    "        'device': device,\n",
    "        'optimizer': optimizer.defaults,\n",
    "        'loss_func': loss_func.__class__.__name__\n",
    "    })\n",
    "    with open('model_summary.txt', 'w') as f:\n",
    "        f.write(str(summary(model)))\n",
    "    mlflow.log_artifact('model_summary.txt')\n",
    "    \n",
    "    loss = train_simple_network(\n",
    "        model=model,\n",
    "        loss_func=loss_func,\n",
    "        training_loader= training_loader,\n",
    "        optimizer=optimizer,\n",
    "        disable_tqdm=False,\n",
    "        epochs=epochs)\n",
    "    \n",
    "    mlflow.log_figure(plot_loss(loss), 'loss.png')\n",
    "    with torch.no_grad():\n",
    "        Y_pred_scaled = model(torch.tensor(scaled_X.reshape(-1, 1), dtype=torch.float32)).numpy()\n",
    "    Y_pred = output_scaler.inverse_transform(Y_pred_scaled)\n",
    "    mlflow.log_figure(plot_data_and_predictions(X, Y, Y_pred), 'data_model.png')\n",
    "    mlflow.pytorch.log_model(model, 'model')\n",
    "    mlflow.log_metric('loss_entire_dataset', mean_squared_error(Y, Y_pred.ravel()))  #Loss on the entire dataset, not on a single batch."
   ]
  },
  {
   "cell_type": "code",
   "execution_count": null,
   "metadata": {},
   "outputs": [
    {
     "data": {
      "text/plain": [
       "<Axes: >"
      ]
     },
     "execution_count": 23,
     "metadata": {},
     "output_type": "execute_result"
    },
    {
     "data": {
      "application/pdf": "[encoded data removed]",
      "image/png": "[encoded data removed]",
      "text/plain": [
       "<Figure size 640x480 with 1 Axes>"
      ]
     },
     "metadata": {},
     "output_type": "display_data"
    }
   ],
   "source": [
    "with torch.no_grad():\n",
    "    Y_pred_scaled = model(torch.tensor(scaled_X.reshape(-1, 1), dtype=torch.float32)).numpy()\n",
    "\n",
    "Y_pred = output_scaler.inverse_transform(Y_pred_scaled)\n",
    "plot_data_and_predictions(X, Y, Y_pred)"
   ]
  },
  {
   "cell_type": "code",
   "execution_count": 22,
   "metadata": {},
   "outputs": [
    {
     "data": {
      "text/plain": [
       "(np.float64(1.9855890171986135), np.float64(0.057593641620202585))"
      ]
     },
     "execution_count": 22,
     "metadata": {},
     "output_type": "execute_result"
    }
   ],
   "source": [
    "from sklearn.metrics import mean_squared_error\n",
    "mean_squared_error(Y, Y_pred.ravel()), mean_squared_error(scaled_Y, Y_pred_scaled.ravel())"
   ]
  },
  {
   "cell_type": "markdown",
   "metadata": {},
   "source": [
    "### Results from MLflow"
   ]
  },
  {
   "cell_type": "markdown",
   "metadata": {},
   "source": [
    "mse:"
   ]
  },
  {
   "cell_type": "markdown",
   "metadata": {},
   "source": [
    "<img src='./images/mse_entire_dataset.png' width=800>"
   ]
  },
  {
   "cell_type": "markdown",
   "metadata": {},
   "source": [
    "training loss:"
   ]
  },
  {
   "cell_type": "markdown",
   "metadata": {},
   "source": [
    "<img src='./images/train_loss.png' width=800>"
   ]
  },
  {
   "cell_type": "markdown",
   "metadata": {},
   "source": [
    "<img src='./images/train_loss_output_scaling.png' width=800>"
   ]
  },
  {
   "cell_type": "markdown",
   "metadata": {},
   "source": [
    "## 2"
   ]
  },
  {
   "cell_type": "markdown",
   "metadata": {},
   "source": [
    "<img src='./images/02.png' width=800>"
   ]
  },
  {
   "cell_type": "markdown",
   "metadata": {},
   "source": [
    "This code integrates **Optuna** for automated hyperparameter optimization with **MLflow** for experiment tracking. It trains a deep learning model on a binary classification task and evaluates its performance using the Area Under the Curve (AUC) metric. The script optimizes hyperparameters such as batch size, learning rate, number of layers, neurons per layer, and activation function **to maximize the AUC score**, ensuring the model achieves superior predictive performance. Key artifacts, metrics, and parameters are logged with MLflow, providing a structured and reproducible workflow for model development and evaluation."
   ]
  },
  {
   "cell_type": "code",
   "execution_count": 4,
   "metadata": {},
   "outputs": [
    {
     "name": "stderr",
     "output_type": "stream",
     "text": [
      "2025/04/07 08:18:01 INFO mlflow.tracking.fluent: Experiment with name 'Exercise_2' does not exist. Creating a new experiment.\n"
     ]
    },
    {
     "data": {
      "text/plain": [
       "<Experiment: artifact_location='/home/spakdel/my_projects/Books/Inside-Deep-Learning/Exercises_InsideDeepLearning/Chapter_02/mlruns/218575834700796214', creation_time=1744001281532, experiment_id='218575834700796214', last_update_time=1744001281532, lifecycle_stage='active', name='Exercise_2', tags={}>"
      ]
     },
     "execution_count": 4,
     "metadata": {},
     "output_type": "execute_result"
    }
   ],
   "source": [
    "mlflow.set_experiment('Exercise_2')"
   ]
  },
  {
   "cell_type": "code",
   "execution_count": 5,
   "metadata": {},
   "outputs": [
    {
     "name": "stderr",
     "output_type": "stream",
     "text": [
      "/home/spakdel/miniconda3/envs/python3.12/lib/python3.12/site-packages/tqdm/auto.py:21: TqdmWarning: IProgress not found. Please update jupyter and ipywidgets. See https://ipywidgets.readthedocs.io/en/stable/user_install.html\n",
      "  from .autonotebook import tqdm as notebook_tqdm\n"
     ]
    }
   ],
   "source": [
    "from sklearn.datasets import make_moons\n",
    "import torch\n",
    "from torch.utils.data import TensorDataset\n",
    "from torch.utils.data import DataLoader\n",
    "import optuna\n",
    "import torch.nn as nn\n",
    "import numpy as np\n",
    "import seaborn as sns\n",
    "import matplotlib.pyplot as plt\n",
    "from utils import (train_network, accuracy_score_wrapper, \n",
    "                f1_score_wrapper, roc_auc_score_micro_wrapper, \n",
    "                weight_reset, set_seed)\n",
    "from torchinfo import summary"
   ]
  },
  {
   "cell_type": "code",
   "execution_count": 6,
   "metadata": {},
   "outputs": [],
   "source": [
    "random_state = 42\n",
    "set_seed(random_state)\n",
    "\n",
    "X_train, Y_train = make_moons(n_samples=8000, noise=0.4, random_state=random_state)\n",
    "X_valid, Y_valid = make_moons(n_samples=200, noise=0.4, random_state=random_state)\n",
    "\n",
    "train_dataset = TensorDataset(torch.tensor(X_train, dtype=torch.float32),\n",
    "                            torch.tensor(Y_train, dtype=torch.long))\n",
    "valid_dataset = TensorDataset(torch.tensor(X_valid, dtype=torch.float32),\n",
    "                            torch.tensor(Y_valid, dtype=torch.long))\n",
    "\n",
    "in_features = 2\n",
    "out_features =2\n",
    "loss_func = nn.CrossEntropyLoss()\n",
    "activation_functions = {\n",
    "'ReLU': nn.ReLU(),\n",
    "'Tanh': nn.Tanh(),\n",
    "'LeakyReLU': nn.LeakyReLU(),\n",
    "'Sigmoid': nn.Sigmoid()\n",
    "}"
   ]
  },
  {
   "cell_type": "code",
   "execution_count": 7,
   "metadata": {},
   "outputs": [],
   "source": [
    "def plot_results(data_df, close=True):\n",
    "    sns.lineplot(data_df, x='epoch', y='valid AUC', label='valid AUC')\n",
    "    plt.xlabel('epoch')\n",
    "    plt.ylabel('valid AUC')\n",
    "    plt.title('valid AUC')\n",
    "    fig = plt.gcf()\n",
    "    if close:\n",
    "        plt.close()\n",
    "    return fig\n",
    "    "
   ]
  },
  {
   "cell_type": "code",
   "execution_count": 8,
   "metadata": {},
   "outputs": [],
   "source": [
    "device = torch.device('cuda') if torch.cuda.is_available() else torch.device('cpu')"
   ]
  },
  {
   "cell_type": "code",
   "execution_count": 9,
   "metadata": {},
   "outputs": [],
   "source": [
    "import optuna\n",
    "\n",
    "\n",
    "optuna.logging.set_verbosity(optuna.logging.ERROR)\n",
    "def champion_callback(study, frozen_trial):\n",
    "    winner = study.user_attrs.get('winner', None)\n",
    "    if winner is None:\n",
    "        print(f'Initial trial {frozen_trial.number} achived value: {frozen_trial.value}')\n",
    "    elif winner != study.best_value and study.best_value:   # second condition is for preventing zero devision\n",
    "        improvment_percent = (abs(winner - study.best_value) / abs(study.best_value)) * 100\n",
    "        print(f'Trial {frozen_trial.number} achived value: {frozen_trial.value} with {improvment_percent:.4f}% improvment')\n",
    "    study.set_user_attr('winner', study.best_value)\n"
   ]
  },
  {
   "cell_type": "code",
   "execution_count": 10,
   "metadata": {},
   "outputs": [],
   "source": [
    "from mlflow.types import Schema, TensorSpec\n",
    "from mlflow.models import ModelSignature\n",
    "\n",
    "\n",
    "def objective(trial):\n",
    "    params = {\n",
    "    'batch_size': trial.suggest_int('batch_size', 16, 256),\n",
    "    'device': device,\n",
    "    'epochs' : epochs,\n",
    "    # 'optimizer': optimizer.defaults,\n",
    "    'loss_function': loss_func.__class__.__name__,\n",
    "    'learning_rate': trial.suggest_float('lr', 1e-8, 1, log=True),\n",
    "    'hidden_neurons': trial.suggest_int(\"neuron_per_layer\", in_features, 500),\n",
    "    'layers': trial.suggest_int(\"hidden_layers\", 1, 20),\n",
    "    'activation': trial.suggest_categorical(\"activation\", list(activation_functions.keys()))\n",
    "    }\n",
    "    sequential_layer = [\n",
    "        nn.Linear(in_features, params['hidden_neurons']),\n",
    "        activation_functions[params['activation']]\n",
    "    ]\n",
    "    for _ in range(params['layers']):\n",
    "        sequential_layer.append(nn.Linear(params['hidden_neurons'], params['hidden_neurons']))\n",
    "        sequential_layer.append(activation_functions[params['activation']])\n",
    "    sequential_layer.append(nn.Linear(params['hidden_neurons'], out_features))\n",
    "\n",
    "    model = nn.Sequential(*sequential_layer)\n",
    "    \n",
    "    # run_name = f'trial_lr_{params[\"learning_rate\"]:.8f}'\n",
    "    run_name = f'trial: {trial.number}'\n",
    "    with mlflow.start_run(nested=True, run_name=run_name):\n",
    "\n",
    "        optimizer = torch.optim.SGD(model.parameters(), lr=params['learning_rate'])\n",
    "        params['optimizer'] = optimizer.defaults\n",
    "        mlflow.log_params(params)\n",
    "\n",
    "        train_dataloader = DataLoader(train_dataset, batch_size=params['batch_size'],shuffle=True)\n",
    "        valid_dataloader = DataLoader(valid_dataset, batch_size=params['batch_size'])\n",
    "        \n",
    "        with open (\"model_summary.txt\", \"w\") as f:\n",
    "            f.write(str(summary(model)))\n",
    "        mlflow.log_artifact(\"model_summary.txt\")\n",
    "\n",
    "        model.apply(weight_reset)\n",
    "        fc_results = train_network(\n",
    "            model=model,\n",
    "            loss_func=loss_func,\n",
    "            train_loader=train_dataloader,\n",
    "            valid_loader=valid_dataloader,\n",
    "            epochs=epochs,\n",
    "            optimizer=optimizer,\n",
    "            score_funcs={'Acc':accuracy_score_wrapper, 'F1':f1_score_wrapper, 'AUC':roc_auc_score_micro_wrapper },\n",
    "            device=device,\n",
    "            checkpont_file_save='model.pth'\n",
    "        )\n",
    "        \n",
    "        input_schema = Schema([TensorSpec(np.dtype(np.float32), (-1, 2))])\n",
    "        output_schema = Schema([TensorSpec(np.dtype(np.float32), (-1, 2))])\n",
    "        signature = ModelSignature(inputs=input_schema, outputs=output_schema)\n",
    "        mlflow.pytorch.log_model(model, \"model\", signature=signature)\n",
    "        mlflow.log_figure(plot_results(fc_results), \"valid_AUC.png\")\n",
    "    return  fc_results['valid AUC'].iloc[-1]\n"
   ]
  },
  {
   "cell_type": "code",
   "execution_count": 11,
   "metadata": {},
   "outputs": [
    {
     "name": "stderr",
     "output_type": "stream",
     "text": [
      "Epoch: 100%|██████████| 20/20 [00:26<00:00,  1.30s/it]\n",
      "2025/04/07 08:19:23 WARNING mlflow.utils.requirements_utils: Found torch version (2.4.1+cpu) contains a local version label (+cpu). MLflow logged a pip requirement for this package as 'torch==2.4.1' without the local version label to make it installable from PyPI. To specify pip requirements containing local version labels, please use `conda_env` or `pip_requirements`.\n",
      "2025/04/07 08:19:34 WARNING mlflow.utils.requirements_utils: Found torch version (2.4.1+cpu) contains a local version label (+cpu). MLflow logged a pip requirement for this package as 'torch==2.4.1' without the local version label to make it installable from PyPI. To specify pip requirements containing local version labels, please use `conda_env` or `pip_requirements`.\n"
     ]
    },
    {
     "name": "stdout",
     "output_type": "stream",
     "text": [
      "Initial trial 0 achived value: 0.12995\n"
     ]
    },
    {
     "name": "stderr",
     "output_type": "stream",
     "text": [
      "Epoch: 100%|██████████| 20/20 [00:13<00:00,  1.48it/s]\n",
      "2025/04/07 08:19:47 WARNING mlflow.utils.requirements_utils: Found torch version (2.4.1+cpu) contains a local version label (+cpu). MLflow logged a pip requirement for this package as 'torch==2.4.1' without the local version label to make it installable from PyPI. To specify pip requirements containing local version labels, please use `conda_env` or `pip_requirements`.\n",
      "2025/04/07 08:19:51 WARNING mlflow.utils.requirements_utils: Found torch version (2.4.1+cpu) contains a local version label (+cpu). MLflow logged a pip requirement for this package as 'torch==2.4.1' without the local version label to make it installable from PyPI. To specify pip requirements containing local version labels, please use `conda_env` or `pip_requirements`.\n"
     ]
    },
    {
     "name": "stdout",
     "output_type": "stream",
     "text": [
      "Trial 1 achived value: 0.72805 with 82.1510% improvment\n"
     ]
    },
    {
     "name": "stderr",
     "output_type": "stream",
     "text": [
      "Epoch: 100%|██████████| 20/20 [00:20<00:00,  1.02s/it]\n",
      "2025/04/07 08:20:12 WARNING mlflow.utils.requirements_utils: Found torch version (2.4.1+cpu) contains a local version label (+cpu). MLflow logged a pip requirement for this package as 'torch==2.4.1' without the local version label to make it installable from PyPI. To specify pip requirements containing local version labels, please use `conda_env` or `pip_requirements`.\n",
      "2025/04/07 08:20:16 WARNING mlflow.utils.requirements_utils: Found torch version (2.4.1+cpu) contains a local version label (+cpu). MLflow logged a pip requirement for this package as 'torch==2.4.1' without the local version label to make it installable from PyPI. To specify pip requirements containing local version labels, please use `conda_env` or `pip_requirements`.\n",
      "Epoch: 100%|██████████| 20/20 [00:12<00:00,  1.57it/s]\n",
      "2025/04/07 08:20:28 WARNING mlflow.utils.requirements_utils: Found torch version (2.4.1+cpu) contains a local version label (+cpu). MLflow logged a pip requirement for this package as 'torch==2.4.1' without the local version label to make it installable from PyPI. To specify pip requirements containing local version labels, please use `conda_env` or `pip_requirements`.\n",
      "2025/04/07 08:20:32 WARNING mlflow.utils.requirements_utils: Found torch version (2.4.1+cpu) contains a local version label (+cpu). MLflow logged a pip requirement for this package as 'torch==2.4.1' without the local version label to make it installable from PyPI. To specify pip requirements containing local version labels, please use `conda_env` or `pip_requirements`.\n",
      "Epoch: 100%|██████████| 20/20 [00:29<00:00,  1.48s/it]\n",
      "2025/04/07 08:21:02 WARNING mlflow.utils.requirements_utils: Found torch version (2.4.1+cpu) contains a local version label (+cpu). MLflow logged a pip requirement for this package as 'torch==2.4.1' without the local version label to make it installable from PyPI. To specify pip requirements containing local version labels, please use `conda_env` or `pip_requirements`.\n",
      "2025/04/07 08:21:05 WARNING mlflow.utils.requirements_utils: Found torch version (2.4.1+cpu) contains a local version label (+cpu). MLflow logged a pip requirement for this package as 'torch==2.4.1' without the local version label to make it installable from PyPI. To specify pip requirements containing local version labels, please use `conda_env` or `pip_requirements`.\n"
     ]
    },
    {
     "name": "stdout",
     "output_type": "stream",
     "text": [
      "Trial 4 achived value: 0.9032 with 19.3922% improvment\n"
     ]
    },
    {
     "name": "stderr",
     "output_type": "stream",
     "text": [
      "Epoch: 100%|██████████| 20/20 [00:47<00:00,  2.39s/it]\n",
      "2025/04/07 08:21:53 WARNING mlflow.utils.requirements_utils: Found torch version (2.4.1+cpu) contains a local version label (+cpu). MLflow logged a pip requirement for this package as 'torch==2.4.1' without the local version label to make it installable from PyPI. To specify pip requirements containing local version labels, please use `conda_env` or `pip_requirements`.\n",
      "2025/04/07 08:21:57 WARNING mlflow.utils.requirements_utils: Found torch version (2.4.1+cpu) contains a local version label (+cpu). MLflow logged a pip requirement for this package as 'torch==2.4.1' without the local version label to make it installable from PyPI. To specify pip requirements containing local version labels, please use `conda_env` or `pip_requirements`.\n",
      "Epoch: 100%|██████████| 20/20 [00:36<00:00,  1.85s/it]\n",
      "2025/04/07 08:22:34 WARNING mlflow.utils.requirements_utils: Found torch version (2.4.1+cpu) contains a local version label (+cpu). MLflow logged a pip requirement for this package as 'torch==2.4.1' without the local version label to make it installable from PyPI. To specify pip requirements containing local version labels, please use `conda_env` or `pip_requirements`.\n",
      "2025/04/07 08:22:39 WARNING mlflow.utils.requirements_utils: Found torch version (2.4.1+cpu) contains a local version label (+cpu). MLflow logged a pip requirement for this package as 'torch==2.4.1' without the local version label to make it installable from PyPI. To specify pip requirements containing local version labels, please use `conda_env` or `pip_requirements`.\n",
      "Epoch: 100%|██████████| 20/20 [00:06<00:00,  2.87it/s]\n",
      "2025/04/07 08:22:46 WARNING mlflow.utils.requirements_utils: Found torch version (2.4.1+cpu) contains a local version label (+cpu). MLflow logged a pip requirement for this package as 'torch==2.4.1' without the local version label to make it installable from PyPI. To specify pip requirements containing local version labels, please use `conda_env` or `pip_requirements`.\n",
      "2025/04/07 08:22:50 WARNING mlflow.utils.requirements_utils: Found torch version (2.4.1+cpu) contains a local version label (+cpu). MLflow logged a pip requirement for this package as 'torch==2.4.1' without the local version label to make it installable from PyPI. To specify pip requirements containing local version labels, please use `conda_env` or `pip_requirements`.\n",
      "Epoch: 100%|██████████| 20/20 [00:46<00:00,  2.31s/it]\n",
      "2025/04/07 08:23:37 WARNING mlflow.utils.requirements_utils: Found torch version (2.4.1+cpu) contains a local version label (+cpu). MLflow logged a pip requirement for this package as 'torch==2.4.1' without the local version label to make it installable from PyPI. To specify pip requirements containing local version labels, please use `conda_env` or `pip_requirements`.\n",
      "2025/04/07 08:23:40 WARNING mlflow.utils.requirements_utils: Found torch version (2.4.1+cpu) contains a local version label (+cpu). MLflow logged a pip requirement for this package as 'torch==2.4.1' without the local version label to make it installable from PyPI. To specify pip requirements containing local version labels, please use `conda_env` or `pip_requirements`.\n",
      "Epoch: 100%|██████████| 20/20 [00:22<00:00,  1.12s/it]\n",
      "2025/04/07 08:24:03 WARNING mlflow.utils.requirements_utils: Found torch version (2.4.1+cpu) contains a local version label (+cpu). MLflow logged a pip requirement for this package as 'torch==2.4.1' without the local version label to make it installable from PyPI. To specify pip requirements containing local version labels, please use `conda_env` or `pip_requirements`.\n",
      "2025/04/07 08:24:06 WARNING mlflow.utils.requirements_utils: Found torch version (2.4.1+cpu) contains a local version label (+cpu). MLflow logged a pip requirement for this package as 'torch==2.4.1' without the local version label to make it installable from PyPI. To specify pip requirements containing local version labels, please use `conda_env` or `pip_requirements`.\n"
     ]
    },
    {
     "name": "stdout",
     "output_type": "stream",
     "text": [
      "Trial 9 achived value: 0.9294 with 2.8190% improvment\n"
     ]
    },
    {
     "name": "stderr",
     "output_type": "stream",
     "text": [
      "Epoch: 100%|██████████| 20/20 [00:17<00:00,  1.17it/s]\n",
      "2025/04/07 08:24:23 WARNING mlflow.utils.requirements_utils: Found torch version (2.4.1+cpu) contains a local version label (+cpu). MLflow logged a pip requirement for this package as 'torch==2.4.1' without the local version label to make it installable from PyPI. To specify pip requirements containing local version labels, please use `conda_env` or `pip_requirements`.\n",
      "2025/04/07 08:24:27 WARNING mlflow.utils.requirements_utils: Found torch version (2.4.1+cpu) contains a local version label (+cpu). MLflow logged a pip requirement for this package as 'torch==2.4.1' without the local version label to make it installable from PyPI. To specify pip requirements containing local version labels, please use `conda_env` or `pip_requirements`.\n",
      "Epoch: 100%|██████████| 20/20 [00:44<00:00,  2.22s/it]\n",
      "2025/04/07 08:25:12 WARNING mlflow.utils.requirements_utils: Found torch version (2.4.1+cpu) contains a local version label (+cpu). MLflow logged a pip requirement for this package as 'torch==2.4.1' without the local version label to make it installable from PyPI. To specify pip requirements containing local version labels, please use `conda_env` or `pip_requirements`.\n",
      "2025/04/07 08:25:16 WARNING mlflow.utils.requirements_utils: Found torch version (2.4.1+cpu) contains a local version label (+cpu). MLflow logged a pip requirement for this package as 'torch==2.4.1' without the local version label to make it installable from PyPI. To specify pip requirements containing local version labels, please use `conda_env` or `pip_requirements`.\n"
     ]
    },
    {
     "name": "stdout",
     "output_type": "stream",
     "text": [
      "Trial 11 achived value: 0.9301 with 0.0753% improvment\n"
     ]
    },
    {
     "name": "stderr",
     "output_type": "stream",
     "text": [
      "Epoch: 100%|██████████| 20/20 [00:24<00:00,  1.24s/it]\n",
      "2025/04/07 08:25:41 WARNING mlflow.utils.requirements_utils: Found torch version (2.4.1+cpu) contains a local version label (+cpu). MLflow logged a pip requirement for this package as 'torch==2.4.1' without the local version label to make it installable from PyPI. To specify pip requirements containing local version labels, please use `conda_env` or `pip_requirements`.\n",
      "2025/04/07 08:25:45 WARNING mlflow.utils.requirements_utils: Found torch version (2.4.1+cpu) contains a local version label (+cpu). MLflow logged a pip requirement for this package as 'torch==2.4.1' without the local version label to make it installable from PyPI. To specify pip requirements containing local version labels, please use `conda_env` or `pip_requirements`.\n"
     ]
    },
    {
     "name": "stdout",
     "output_type": "stream",
     "text": [
      "Trial 12 achived value: 0.9320999999999999 with 0.2146% improvment\n"
     ]
    },
    {
     "name": "stderr",
     "output_type": "stream",
     "text": [
      "Epoch: 100%|██████████| 20/20 [00:19<00:00,  1.04it/s]\n",
      "2025/04/07 08:26:04 WARNING mlflow.utils.requirements_utils: Found torch version (2.4.1+cpu) contains a local version label (+cpu). MLflow logged a pip requirement for this package as 'torch==2.4.1' without the local version label to make it installable from PyPI. To specify pip requirements containing local version labels, please use `conda_env` or `pip_requirements`.\n",
      "2025/04/07 08:26:10 WARNING mlflow.utils.requirements_utils: Found torch version (2.4.1+cpu) contains a local version label (+cpu). MLflow logged a pip requirement for this package as 'torch==2.4.1' without the local version label to make it installable from PyPI. To specify pip requirements containing local version labels, please use `conda_env` or `pip_requirements`.\n",
      "Epoch: 100%|██████████| 20/20 [00:23<00:00,  1.18s/it]\n",
      "2025/04/07 08:26:34 WARNING mlflow.utils.requirements_utils: Found torch version (2.4.1+cpu) contains a local version label (+cpu). MLflow logged a pip requirement for this package as 'torch==2.4.1' without the local version label to make it installable from PyPI. To specify pip requirements containing local version labels, please use `conda_env` or `pip_requirements`.\n",
      "2025/04/07 08:26:41 WARNING mlflow.utils.requirements_utils: Found torch version (2.4.1+cpu) contains a local version label (+cpu). MLflow logged a pip requirement for this package as 'torch==2.4.1' without the local version label to make it installable from PyPI. To specify pip requirements containing local version labels, please use `conda_env` or `pip_requirements`.\n",
      "Epoch: 100%|██████████| 20/20 [00:14<00:00,  1.35it/s]\n",
      "2025/04/07 08:26:56 WARNING mlflow.utils.requirements_utils: Found torch version (2.4.1+cpu) contains a local version label (+cpu). MLflow logged a pip requirement for this package as 'torch==2.4.1' without the local version label to make it installable from PyPI. To specify pip requirements containing local version labels, please use `conda_env` or `pip_requirements`.\n",
      "2025/04/07 08:26:59 WARNING mlflow.utils.requirements_utils: Found torch version (2.4.1+cpu) contains a local version label (+cpu). MLflow logged a pip requirement for this package as 'torch==2.4.1' without the local version label to make it installable from PyPI. To specify pip requirements containing local version labels, please use `conda_env` or `pip_requirements`.\n",
      "Epoch: 100%|██████████| 20/20 [00:21<00:00,  1.09s/it]\n",
      "2025/04/07 08:27:21 WARNING mlflow.utils.requirements_utils: Found torch version (2.4.1+cpu) contains a local version label (+cpu). MLflow logged a pip requirement for this package as 'torch==2.4.1' without the local version label to make it installable from PyPI. To specify pip requirements containing local version labels, please use `conda_env` or `pip_requirements`.\n",
      "2025/04/07 08:27:26 WARNING mlflow.utils.requirements_utils: Found torch version (2.4.1+cpu) contains a local version label (+cpu). MLflow logged a pip requirement for this package as 'torch==2.4.1' without the local version label to make it installable from PyPI. To specify pip requirements containing local version labels, please use `conda_env` or `pip_requirements`.\n",
      "Epoch: 100%|██████████| 20/20 [00:27<00:00,  1.40s/it]\n",
      "2025/04/07 08:27:54 WARNING mlflow.utils.requirements_utils: Found torch version (2.4.1+cpu) contains a local version label (+cpu). MLflow logged a pip requirement for this package as 'torch==2.4.1' without the local version label to make it installable from PyPI. To specify pip requirements containing local version labels, please use `conda_env` or `pip_requirements`.\n",
      "2025/04/07 08:27:59 WARNING mlflow.utils.requirements_utils: Found torch version (2.4.1+cpu) contains a local version label (+cpu). MLflow logged a pip requirement for this package as 'torch==2.4.1' without the local version label to make it installable from PyPI. To specify pip requirements containing local version labels, please use `conda_env` or `pip_requirements`.\n",
      "Epoch: 100%|██████████| 20/20 [00:30<00:00,  1.51s/it]\n",
      "2025/04/07 08:28:29 WARNING mlflow.utils.requirements_utils: Found torch version (2.4.1+cpu) contains a local version label (+cpu). MLflow logged a pip requirement for this package as 'torch==2.4.1' without the local version label to make it installable from PyPI. To specify pip requirements containing local version labels, please use `conda_env` or `pip_requirements`.\n",
      "2025/04/07 08:28:33 WARNING mlflow.utils.requirements_utils: Found torch version (2.4.1+cpu) contains a local version label (+cpu). MLflow logged a pip requirement for this package as 'torch==2.4.1' without the local version label to make it installable from PyPI. To specify pip requirements containing local version labels, please use `conda_env` or `pip_requirements`.\n",
      "Epoch: 100%|██████████| 20/20 [00:26<00:00,  1.35s/it]\n",
      "2025/04/07 08:29:00 WARNING mlflow.utils.requirements_utils: Found torch version (2.4.1+cpu) contains a local version label (+cpu). MLflow logged a pip requirement for this package as 'torch==2.4.1' without the local version label to make it installable from PyPI. To specify pip requirements containing local version labels, please use `conda_env` or `pip_requirements`.\n",
      "2025/04/07 08:29:04 WARNING mlflow.utils.requirements_utils: Found torch version (2.4.1+cpu) contains a local version label (+cpu). MLflow logged a pip requirement for this package as 'torch==2.4.1' without the local version label to make it installable from PyPI. To specify pip requirements containing local version labels, please use `conda_env` or `pip_requirements`.\n"
     ]
    },
    {
     "name": "stdout",
     "output_type": "stream",
     "text": [
      "Champion trial: 12 with value 0.9320999999999999\n"
     ]
    }
   ],
   "source": [
    "epochs = 20\n",
    "# run_name = \"second_attempt\"\n",
    "# with mlflow.start_run():\n",
    "study = optuna.create_study(direction='maximize')\n",
    "study.optimize(objective, n_trials=20, callbacks=[champion_callback])\n",
    "champion_trial = study.best_trial\n",
    "print(f\"Champion trial: {champion_trial.number} with value {champion_trial.value}\")"
   ]
  },
  {
   "cell_type": "markdown",
   "metadata": {},
   "source": [
    "## 3"
   ]
  },
  {
   "cell_type": "markdown",
   "metadata": {},
   "source": [
    "<img src='./images/03.png' width=800>"
   ]
  },
  {
   "cell_type": "markdown",
   "metadata": {},
   "source": [
    "This script addresses a modified version of the original problem from the book. The original task involved writing a function (resume_simple_network) that loads a model checkpoint from disk, restores both the optimizer and model states, and continues training to reach a specified total number of epochs.\n",
    "\n",
    "In this solution, I extended the problem to incorporate MLflow and Optuna skills. Instead of merely restoring a checkpoint, the script loads the best-performing model (logged with MLflow in the previous task) and resumes training with additional epochs. This approach leverages MLflow's experiment tracking and Optuna's hyperparameter optimization, enhancing reproducibility and automation in the model development process."
   ]
  },
  {
   "cell_type": "code",
   "execution_count": 15,
   "metadata": {},
   "outputs": [
    {
     "name": "stderr",
     "output_type": "stream",
     "text": [
      "2025/04/07 10:14:06 INFO mlflow.tracking.fluent: Experiment with name 'Exercise_3' does not exist. Creating a new experiment.\n"
     ]
    },
    {
     "data": {
      "text/plain": [
       "<Experiment: artifact_location='/home/spakdel/my_projects/Books/Inside-Deep-Learning/Exercises_InsideDeepLearning/Chapter_02/mlruns/233476924229105941', creation_time=1744008246854, experiment_id='233476924229105941', last_update_time=1744008246854, lifecycle_stage='active', name='Exercise_3', tags={}>"
      ]
     },
     "execution_count": 15,
     "metadata": {},
     "output_type": "execute_result"
    }
   ],
   "source": [
    "mlflow.set_experiment('Exercise_3')"
   ]
  },
  {
   "cell_type": "code",
   "execution_count": 16,
   "metadata": {},
   "outputs": [],
   "source": [
    "from sklearn.datasets import make_moons\n",
    "import torch\n",
    "from torch.utils.data import TensorDataset\n",
    "from torch.utils.data import DataLoader\n",
    "import optuna\n",
    "import torch.nn as nn\n",
    "import numpy as np\n",
    "import seaborn as sns\n",
    "import matplotlib.pyplot as plt\n",
    "from utils import (train_network, accuracy_score_wrapper, \n",
    "                f1_score_wrapper, roc_auc_score_micro_wrapper, \n",
    "                weight_reset, set_seed)\n",
    "from torchinfo import summary"
   ]
  },
  {
   "cell_type": "code",
   "execution_count": 17,
   "metadata": {},
   "outputs": [],
   "source": [
    "random_state = 42\n",
    "set_seed(random_state)\n",
    "\n",
    "X_train, Y_train = make_moons(n_samples=8000, noise=0.4, random_state=random_state)\n",
    "X_valid, Y_valid = make_moons(n_samples=200, noise=0.4, random_state=random_state)\n",
    "\n",
    "train_dataset = TensorDataset(torch.tensor(X_train, dtype=torch.float32),\n",
    "                            torch.tensor(Y_train, dtype=torch.long))\n",
    "valid_dataset = TensorDataset(torch.tensor(X_valid, dtype=torch.float32),\n",
    "                            torch.tensor(Y_valid, dtype=torch.long))"
   ]
  },
  {
   "cell_type": "code",
   "execution_count": 18,
   "metadata": {},
   "outputs": [],
   "source": [
    "def plot_results(data_df, close=True):\n",
    "    sns.lineplot(data_df, x='epoch', y='valid AUC', label='valid AUC')\n",
    "    plt.xlabel('epoch')\n",
    "    plt.ylabel('valid AUC')\n",
    "    plt.title('valid AUC')\n",
    "    fig = plt.gcf()\n",
    "    if close:\n",
    "        plt.close()\n",
    "    return fig\n",
    "    "
   ]
  },
  {
   "cell_type": "code",
   "execution_count": null,
   "metadata": {},
   "outputs": [
    {
     "name": "stdout",
     "output_type": "stream",
     "text": [
      "/home/spakdel/my_projects/Books/Inside-Deep-Learning/Exercises_InsideDeepLearning/Chapter_02/mlruns/218575834700796214/219aed50bb7f4f8cbe70429ade80c1a5/artifacts/model.pth\n"
     ]
    },
    {
     "name": "stderr",
     "output_type": "stream",
     "text": [
      "/tmp/ipykernel_1586/496767390.py:4: FutureWarning: You are using `torch.load` with `weights_only=False` (the current default value), which uses the default pickle module implicitly. It is possible to construct malicious pickle data which will execute arbitrary code during unpickling (See https://github.com/pytorch/pytorch/blob/main/SECURITY.md#untrusted-models for more details). In a future release, the default value for `weights_only` will be flipped to `True`. This limits the functions that could be executed during unpickling. Arbitrary objects will no longer be allowed to be loaded via this mode unless they are explicitly allowlisted by the user via `torch.serialization.add_safe_globals`. We recommend you start setting `weights_only=True` for any use case where you don't have full control of the loaded file. Please open an issue on GitHub for any issues related to this experimental feature.\n",
      "  checkpoint = torch.load(checkpoint_local_path)\n"
     ]
    }
   ],
   "source": [
    "run_id = '219aed50bb7f4f8cbe70429ade80c1a5' #best valid auc from previuos exercise\n",
    "checkpoint_local_path = mlflow.artifacts.download_artifacts(artifact_path=\"model.pth\", run_id=run_id)\n",
    "print(checkpoint_local_path)\n",
    "checkpoint = torch.load(checkpoint_local_path)"
   ]
  },
  {
   "cell_type": "code",
   "execution_count": 13,
   "metadata": {},
   "outputs": [
    {
     "data": {
      "text/plain": [
       "<RunData: metrics={'train AUC': 0.9327616875,\n",
       " 'train Acc': 0.85975,\n",
       " 'train F1': 0.860932077342588,\n",
       " 'train_loss': 0.33126768881970264,\n",
       " 'valid AUC': 0.9320999999999999,\n",
       " 'valid Acc': 0.835,\n",
       " 'valid F1': 0.819672131147541,\n",
       " 'valis_loss': 0.38746872544288635}, params={'activation': 'ReLU',\n",
       " 'batch_size': '172',\n",
       " 'device': 'cpu',\n",
       " 'epochs': '20',\n",
       " 'hidden_neurons': '483',\n",
       " 'layers': '7',\n",
       " 'learning_rate': '0.9838326800227287',\n",
       " 'loss_function': 'CrossEntropyLoss',\n",
       " 'optimizer': \"{'lr': 0.9838326800227287, 'momentum': 0, 'dampening': 0, \"\n",
       "              \"'weight_decay': 0, 'nesterov': False, 'maximize': False, \"\n",
       "              \"'foreach': None, 'differentiable': False, 'fused': None}\"}, tags={'mlflow.log-model.history': '[{\"run_id\": \"219aed50bb7f4f8cbe70429ade80c1a5\", '\n",
       "                             '\"artifact_path\": \"model\", \"utc_time_created\": '\n",
       "                             '\"2025-04-07 04:55:41.302860\", \"flavors\": '\n",
       "                             '{\"pytorch\": {\"model_data\": \"data\", '\n",
       "                             '\"pytorch_version\": \"2.4.1+cpu\", \"code\": null}, '\n",
       "                             '\"python_function\": {\"pickle_module_name\": '\n",
       "                             '\"mlflow.pytorch.pickle_module\", \"loader_module\": '\n",
       "                             '\"mlflow.pytorch\", \"python_version\": \"3.12.4\", '\n",
       "                             '\"data\": \"data\", \"env\": {\"conda\": \"conda.yaml\", '\n",
       "                             '\"virtualenv\": \"python_env.yaml\"}, \"config\": '\n",
       "                             '{\"device\": null}}}, \"model_uuid\": '\n",
       "                             '\"4472bbceae1742ada14b76b3fb761a73\"}]',\n",
       " 'mlflow.runName': 'trial: 12',\n",
       " 'mlflow.source.name': '/home/spakdel/miniconda3/envs/python3.12/lib/python3.12/site-packages/ipykernel_launcher.py',\n",
       " 'mlflow.source.type': 'LOCAL',\n",
       " 'mlflow.user': 'spakdel'}>"
      ]
     },
     "execution_count": 13,
     "metadata": {},
     "output_type": "execute_result"
    }
   ],
   "source": [
    "from mlflow import MlflowClient\n",
    "client = MlflowClient()\n",
    "run_data = client.get_run(run_id).data\n",
    "run_data"
   ]
  },
  {
   "cell_type": "code",
   "execution_count": 14,
   "metadata": {},
   "outputs": [
    {
     "data": {
      "text/plain": [
       "{'device': 'cpu',\n",
       " 'layers': '7',\n",
       " 'epochs': '20',\n",
       " 'activation': 'ReLU',\n",
       " 'optimizer': \"{'lr': 0.9838326800227287, 'momentum': 0, 'dampening': 0, 'weight_decay': 0, 'nesterov': False, 'maximize': False, 'foreach': None, 'differentiable': False, 'fused': None}\",\n",
       " 'learning_rate': '0.9838326800227287',\n",
       " 'batch_size': '172',\n",
       " 'loss_function': 'CrossEntropyLoss',\n",
       " 'hidden_neurons': '483'}"
      ]
     },
     "execution_count": 14,
     "metadata": {},
     "output_type": "execute_result"
    }
   ],
   "source": [
    "run_data.params"
   ]
  },
  {
   "cell_type": "code",
   "execution_count": 20,
   "metadata": {},
   "outputs": [
    {
     "name": "stderr",
     "output_type": "stream",
     "text": [
      "/home/spakdel/my_projects/Books/Inside-Deep-Learning/Exercises_InsideDeepLearning/Chapter_02/utils.py:147: FutureWarning: You are using `torch.load` with `weights_only=False` (the current default value), which uses the default pickle module implicitly. It is possible to construct malicious pickle data which will execute arbitrary code during unpickling (See https://github.com/pytorch/pytorch/blob/main/SECURITY.md#untrusted-models for more details). In a future release, the default value for `weights_only` will be flipped to `True`. This limits the functions that could be executed during unpickling. Arbitrary objects will no longer be allowed to be loaded via this mode unless they are explicitly allowlisted by the user via `torch.serialization.add_safe_globals`. We recommend you start setting `weights_only=True` for any use case where you don't have full control of the loaded file. Please open an issue on GitHub for any issues related to this experimental feature.\n",
      "  checkpoint = torch.load(checkpoint_file_load)\n"
     ]
    },
    {
     "name": "stdout",
     "output_type": "stream",
     "text": [
      "loading model ....\n"
     ]
    },
    {
     "name": "stderr",
     "output_type": "stream",
     "text": [
      "Epoch: 100%|██████████| 10/10 [00:15<00:00,  1.57s/it]\n",
      "2025/04/07 10:17:20 WARNING mlflow.utils.requirements_utils: Found torch version (2.4.1+cpu) contains a local version label (+cpu). MLflow logged a pip requirement for this package as 'torch==2.4.1' without the local version label to make it installable from PyPI. To specify pip requirements containing local version labels, please use `conda_env` or `pip_requirements`.\n",
      "2025/04/07 10:17:31 WARNING mlflow.utils.requirements_utils: Found torch version (2.4.1+cpu) contains a local version label (+cpu). MLflow logged a pip requirement for this package as 'torch==2.4.1' without the local version label to make it installable from PyPI. To specify pip requirements containing local version labels, please use `conda_env` or `pip_requirements`.\n"
     ]
    }
   ],
   "source": [
    "from mlflow.types import Schema, TensorSpec\n",
    "from mlflow.models import ModelSignature\n",
    "\n",
    "\n",
    "params = run_data.params\n",
    "epochs = 30\n",
    "in_features = 2\n",
    "out_features = 2\n",
    "device = torch.device('cuda') if torch.cuda.is_available() else torch.device('cpu')\n",
    "params['device'] = device\n",
    "params['epochs'] = epochs\n",
    "loss_func = nn.CrossEntropyLoss()\n",
    "activation_functions = {\n",
    "'ReLU': nn.ReLU(),\n",
    "'Tanh': nn.Tanh(),\n",
    "'LeakyReLU': nn.LeakyReLU(),\n",
    "'Sigmoid': nn.Sigmoid()\n",
    "}\n",
    "sequential_layer = [\n",
    "    nn.Linear(in_features, int(params['hidden_neurons'])),\n",
    "    activation_functions[params['activation']]\n",
    "]\n",
    "for _ in range(int(params['layers'])):\n",
    "    sequential_layer.append(nn.Linear(int(params['hidden_neurons']), int(params['hidden_neurons'])))\n",
    "    sequential_layer.append(activation_functions[params['activation']])\n",
    "sequential_layer.append(nn.Linear(int(params['hidden_neurons']), out_features))\n",
    "\n",
    "model = nn.Sequential(*sequential_layer)\n",
    "optimizer = torch.optim.SGD(model.parameters(), lr=float(params['learning_rate']))\n",
    "\n",
    "train_dataloader = DataLoader(train_dataset, batch_size=int(params['batch_size']),shuffle=True)\n",
    "valid_dataloader = DataLoader(valid_dataset, batch_size=int(params['batch_size']))\n",
    "\n",
    "with mlflow.start_run(nested=True, run_name='resume_best_auc'):\n",
    "    mlflow.log_params(params)\n",
    "\n",
    "    \n",
    "    with open (\"model_summary.txt\", \"w\") as f:\n",
    "        f.write(str(summary(model)))\n",
    "    mlflow.log_artifact(\"model_summary.txt\")\n",
    "\n",
    "    fc_results = train_network(\n",
    "        model=model,\n",
    "        loss_func=loss_func,\n",
    "        train_loader=train_dataloader,\n",
    "        valid_loader=valid_dataloader,\n",
    "        epochs=epochs,\n",
    "        optimizer=optimizer,\n",
    "        score_funcs={'Acc':accuracy_score_wrapper, 'F1':f1_score_wrapper, 'AUC':roc_auc_score_micro_wrapper },\n",
    "        device=device,\n",
    "        checkpont_file_save='model.pth',\n",
    "        checkpoint_file_load=checkpoint_local_path\n",
    "    )\n",
    "    \n",
    "    input_schema = Schema([TensorSpec(np.dtype(np.float32), (-1, 2))])\n",
    "    output_schema = Schema([TensorSpec(np.dtype(np.float32), (-1, 2))])\n",
    "    signature = ModelSignature(inputs=input_schema, outputs=output_schema)\n",
    "    mlflow.pytorch.log_model(model, \"model\", signature=signature)\n",
    "    mlflow.log_figure(plot_results(fc_results), \"valid_AUC.png\")"
   ]
  },
  {
   "cell_type": "markdown",
   "metadata": {},
   "source": [
    "## 4"
   ]
  },
  {
   "cell_type": "markdown",
   "metadata": {},
   "source": [
    "<img src='./images/04.png' width=800>"
   ]
  },
  {
   "cell_type": "markdown",
   "metadata": {},
   "source": [
    "To address the original problem, I modified the train_simple_network function to save a version of the model every x epochs. Instead of saving models with different filenames locally, which could potentially fill the hard drive, I store the models in MLflow. By leveraging MLflow, I can keep track of models efficiently without worrying about storage limitations. This approach makes it easy to revisit specific versions of the model and analyze their performance."
   ]
  },
  {
   "cell_type": "code",
   "execution_count": 21,
   "metadata": {},
   "outputs": [
    {
     "name": "stderr",
     "output_type": "stream",
     "text": [
      "2025/04/07 10:31:47 INFO mlflow.tracking.fluent: Experiment with name 'Exercise_4' does not exist. Creating a new experiment.\n"
     ]
    },
    {
     "data": {
      "text/plain": [
       "<Experiment: artifact_location='/home/spakdel/my_projects/Books/Inside-Deep-Learning/Exercises_InsideDeepLearning/Chapter_02/mlruns/203838178005775626', creation_time=1744009307431, experiment_id='203838178005775626', last_update_time=1744009307431, lifecycle_stage='active', name='Exercise_4', tags={}>"
      ]
     },
     "execution_count": 21,
     "metadata": {},
     "output_type": "execute_result"
    }
   ],
   "source": [
    "mlflow.set_experiment('Exercise_4')"
   ]
  },
  {
   "cell_type": "code",
   "execution_count": 24,
   "metadata": {},
   "outputs": [
    {
     "name": "stderr",
     "output_type": "stream",
     "text": [
      "Epoch: 100%|██████████| 30/30 [00:47<00:00,  1.57s/it]\n",
      "2025/04/07 10:37:07 WARNING mlflow.utils.requirements_utils: Found torch version (2.4.1+cpu) contains a local version label (+cpu). MLflow logged a pip requirement for this package as 'torch==2.4.1' without the local version label to make it installable from PyPI. To specify pip requirements containing local version labels, please use `conda_env` or `pip_requirements`.\n",
      "2025/04/07 10:37:13 WARNING mlflow.utils.requirements_utils: Found torch version (2.4.1+cpu) contains a local version label (+cpu). MLflow logged a pip requirement for this package as 'torch==2.4.1' without the local version label to make it installable from PyPI. To specify pip requirements containing local version labels, please use `conda_env` or `pip_requirements`.\n"
     ]
    }
   ],
   "source": [
    "from sklearn.datasets import make_moons\n",
    "import torch\n",
    "from torch.utils.data import TensorDataset\n",
    "from torch.utils.data import DataLoader\n",
    "import optuna\n",
    "import torch.nn as nn\n",
    "import numpy as np\n",
    "import seaborn as sns\n",
    "import matplotlib.pyplot as plt\n",
    "from utils import (train_network, accuracy_score_wrapper, \n",
    "                f1_score_wrapper, roc_auc_score_micro_wrapper, \n",
    "                weight_reset, set_seed)\n",
    "from torchinfo import summary\n",
    "from mlflow import MlflowClient\n",
    "from mlflow.types import Schema, TensorSpec\n",
    "from mlflow.models import ModelSignature\n",
    "\n",
    "\n",
    "random_state = 42\n",
    "set_seed(random_state)\n",
    "\n",
    "X_train, Y_train = make_moons(n_samples=8000, noise=0.4, random_state=random_state)\n",
    "X_valid, Y_valid = make_moons(n_samples=200, noise=0.4, random_state=random_state)\n",
    "\n",
    "train_dataset = TensorDataset(torch.tensor(X_train, dtype=torch.float32),\n",
    "                            torch.tensor(Y_train, dtype=torch.long))\n",
    "valid_dataset = TensorDataset(torch.tensor(X_valid, dtype=torch.float32),\n",
    "                            torch.tensor(Y_valid, dtype=torch.long))\n",
    "\n",
    "\n",
    "def plot_results(data_df, close=True):\n",
    "    sns.lineplot(data_df, x='epoch', y='valid AUC', label='valid AUC')\n",
    "    plt.xlabel('epoch')\n",
    "    plt.ylabel('valid AUC')\n",
    "    plt.title('valid AUC')\n",
    "    fig = plt.gcf()\n",
    "    if close:\n",
    "        plt.close()\n",
    "    return fig\n",
    "    \n",
    "run_id = '219aed50bb7f4f8cbe70429ade80c1a5' #best valid auc from previuos exercise\n",
    "\n",
    "client = MlflowClient()\n",
    "run_data = client.get_run(run_id).data\n",
    "\n",
    "params = run_data.params\n",
    "epochs = 30\n",
    "in_features = 2\n",
    "out_features = 2\n",
    "device = torch.device('cuda') if torch.cuda.is_available() else torch.device('cpu')\n",
    "params['device'] = device\n",
    "params['epochs'] = epochs\n",
    "loss_func = nn.CrossEntropyLoss()\n",
    "activation_functions = {\n",
    "'ReLU': nn.ReLU(),\n",
    "'Tanh': nn.Tanh(),\n",
    "'LeakyReLU': nn.LeakyReLU(),\n",
    "'Sigmoid': nn.Sigmoid()\n",
    "}\n",
    "sequential_layer = [\n",
    "    nn.Linear(in_features, int(params['hidden_neurons'])),\n",
    "    activation_functions[params['activation']]\n",
    "]\n",
    "for _ in range(int(params['layers'])):\n",
    "    sequential_layer.append(nn.Linear(int(params['hidden_neurons']), int(params['hidden_neurons'])))\n",
    "    sequential_layer.append(activation_functions[params['activation']])\n",
    "sequential_layer.append(nn.Linear(int(params['hidden_neurons']), out_features))\n",
    "\n",
    "model = nn.Sequential(*sequential_layer)\n",
    "optimizer = torch.optim.SGD(model.parameters(), lr=float(params['learning_rate']))\n",
    "\n",
    "train_dataloader = DataLoader(train_dataset, batch_size=int(params['batch_size']),shuffle=True)\n",
    "valid_dataloader = DataLoader(valid_dataset, batch_size=int(params['batch_size']))\n",
    "\n",
    "with mlflow.start_run(nested=True, run_name='save_every_x_epochs'):\n",
    "    mlflow.log_params(params)\n",
    "\n",
    "    \n",
    "    with open (\"model_summary.txt\", \"w\") as f:\n",
    "        f.write(str(summary(model)))\n",
    "    mlflow.log_artifact(\"model_summary.txt\")\n",
    "\n",
    "    fc_results = train_network(\n",
    "        model=model,\n",
    "        loss_func=loss_func,\n",
    "        train_loader=train_dataloader,\n",
    "        valid_loader=valid_dataloader,\n",
    "        epochs=epochs,\n",
    "        optimizer=optimizer,\n",
    "        score_funcs={'Acc':accuracy_score_wrapper, 'F1':f1_score_wrapper, 'AUC':roc_auc_score_micro_wrapper },\n",
    "        device=device,\n",
    "        checkpoint_file_save='model.pth',\n",
    "        checkpoint_every_x=10\n",
    "    )\n",
    "    \n",
    "    input_schema = Schema([TensorSpec(np.dtype(np.float32), (-1, 2))])\n",
    "    output_schema = Schema([TensorSpec(np.dtype(np.float32), (-1, 2))])\n",
    "    signature = ModelSignature(inputs=input_schema, outputs=output_schema)\n",
    "    mlflow.pytorch.log_model(model, \"model\", signature=signature)\n",
    "    mlflow.log_figure(plot_results(fc_results), \"valid_AUC.png\")"
   ]
  },
  {
   "cell_type": "markdown",
   "metadata": {},
   "source": [
    "### Without mlflow:"
   ]
  },
  {
   "cell_type": "code",
   "execution_count": 11,
   "metadata": {},
   "outputs": [],
   "source": [
    "import matplotlib.pyplot as plt\n",
    "import numpy as np\n",
    "import seaborn as sns\n",
    "import torch\n",
    "import torch.nn.functional as F\n",
    "import torch.optim as optim\n",
    "from tqdm.autonotebook import tqdm\n",
    "import time\n",
    "from collections import defaultdict\n",
    "import pandas as pd\n",
    "from utils import run_epoch\n",
    "\n",
    "def resum_better_network(model,\n",
    "                        optimizer,\n",
    "                        loss_func,\n",
    "                        train_loader,\n",
    "                        val_loader=None,\n",
    "                        epochs=50,\n",
    "                        device='cpu',\n",
    "                        score_funcs=None,\n",
    "                        checkpoint_file_load=None,\n",
    "                        checkpoint_file_save=None,\n",
    "                        lr=0.001,\n",
    "                        checkpoint_every_x=None,\n",
    "                        ):\n",
    "    model.to(device)\n",
    "    optimizer = optimizer(model.parameters(), lr=lr)\n",
    "\n",
    "    if checkpoint_file_load:\n",
    "        checkpoint = torch.load(checkpoint_file_load,  weights_only=False)\n",
    "        \n",
    "        model.load_state_dict(checkpoint['model_state_dict'])\n",
    "        optimizer.load_state_dict(checkpoint['optimizer_state_dict'])\n",
    "        start_epoch = checkpoint['epoch'] + 1\n",
    "        results = checkpoint['results']\n",
    "        total_train_time = checkpoint['results']['total time'][-1]\n",
    "    else:\n",
    "        results = defaultdict(list)\n",
    "        start_epoch = 0\n",
    "        total_train_time = 0\n",
    "    for epoch in tqdm(range(start_epoch, epochs), desc='Epoch'):\n",
    "        model.train()\n",
    "        \n",
    "        total_train_time += run_epoch(model,\n",
    "                                    optimizer,\n",
    "                                    train_loader,\n",
    "                                    loss_func,\n",
    "                                    device,\n",
    "                                    results,\n",
    "                                    score_funcs,\n",
    "                                    prefix='train',\n",
    "                                    desc='training',\n",
    "                                    )\n",
    "\n",
    "        results['total time'].append(total_train_time)\n",
    "        results['epoch'].append(epoch)\n",
    "        \n",
    "        if val_loader is not None:\n",
    "            model.eval()\n",
    "            val_loss = 0\n",
    "            with torch.no_grad():\n",
    "                run_epoch(model,\n",
    "                        optimizer,\n",
    "                        train_loader,\n",
    "                        loss_func,\n",
    "                        device,\n",
    "                        results,\n",
    "                        score_funcs,\n",
    "                        prefix='valid',\n",
    "                        desc='validating',\n",
    "                        )\n",
    "        if checkpoint_every_x and (epoch+1) % checkpoint_every_x == 0:\n",
    "            torch.save(\n",
    "                {\n",
    "                'results': results,\n",
    "                'epoch': epoch,\n",
    "                'model_state_dict': model.state_dict(),\n",
    "                'optimizer_state_dict': optimizer.state_dict()\n",
    "                },\n",
    "                f'{checkpoint_file_save.split('.')[0]}_{epoch+1}.pth')\n",
    "\n",
    "    if checkpoint_file_save is not None:\n",
    "        torch.save(\n",
    "            {\n",
    "            'results': results,\n",
    "            'epoch': epoch,\n",
    "            'model_state_dict': model.state_dict(),\n",
    "            'optimizer_state_dict': optimizer.state_dict()\n",
    "            },\n",
    "            f'{checkpoint_file_save.split('.')[0]}_final_({epoch+1}).pth')\n",
    "    return pd.DataFrame.from_dict(results)"
   ]
  },
  {
   "cell_type": "markdown",
   "metadata": {},
   "source": [
    "## 5"
   ]
  },
  {
   "cell_type": "markdown",
   "metadata": {},
   "source": [
    "<img src='./images/05.png' width=800>"
   ]
  },
  {
   "cell_type": "code",
   "execution_count": 2,
   "metadata": {},
   "outputs": [
    {
     "name": "stderr",
     "output_type": "stream",
     "text": [
      "2025/04/07 20:38:52 INFO mlflow.tracking.fluent: Experiment with name 'Exercise_5' does not exist. Creating a new experiment.\n"
     ]
    },
    {
     "data": {
      "text/plain": [
       "<Experiment: artifact_location='file:///home/spakdel/my_projects/Books/Inside-Deep-Learning/Exercises_InsideDeepLearning/Chapter_02/mlruns/548671726767221527', creation_time=1744045733016, experiment_id='548671726767221527', last_update_time=1744045733016, lifecycle_stage='active', name='Exercise_5', tags={}>"
      ]
     },
     "execution_count": 2,
     "metadata": {},
     "output_type": "execute_result"
    }
   ],
   "source": [
    "import mlflow\n",
    "mlflow.set_experiment('Exercise_5')"
   ]
  },
  {
   "cell_type": "code",
   "execution_count": 3,
   "metadata": {},
   "outputs": [
    {
     "name": "stderr",
     "output_type": "stream",
     "text": [
      "/home/spakdel/miniconda3/envs/python3.12/lib/python3.12/site-packages/tqdm/auto.py:21: TqdmWarning: IProgress not found. Please update jupyter and ipywidgets. See https://ipywidgets.readthedocs.io/en/stable/user_install.html\n",
      "  from .autonotebook import tqdm as notebook_tqdm\n"
     ]
    },
    {
     "name": "stdout",
     "output_type": "stream",
     "text": [
      "trainig: 0 layers\n"
     ]
    },
    {
     "name": "stderr",
     "output_type": "stream",
     "text": [
      "Epoch: 100%|██████████| 20/20 [00:07<00:00,  2.69it/s]\n"
     ]
    },
    {
     "name": "stdout",
     "output_type": "stream",
     "text": [
      "trainig: 1 layers\n"
     ]
    },
    {
     "name": "stderr",
     "output_type": "stream",
     "text": [
      "Epoch: 100%|██████████| 20/20 [00:11<00:00,  1.71it/s]\n"
     ]
    },
    {
     "name": "stdout",
     "output_type": "stream",
     "text": [
      "trainig: 2 layers\n"
     ]
    },
    {
     "name": "stderr",
     "output_type": "stream",
     "text": [
      "Epoch: 100%|██████████| 20/20 [00:18<00:00,  1.08it/s]\n"
     ]
    },
    {
     "name": "stdout",
     "output_type": "stream",
     "text": [
      "trainig: 3 layers\n"
     ]
    },
    {
     "name": "stderr",
     "output_type": "stream",
     "text": [
      "Epoch: 100%|██████████| 20/20 [00:19<00:00,  1.05it/s]\n"
     ]
    },
    {
     "name": "stdout",
     "output_type": "stream",
     "text": [
      "trainig: 4 layers\n"
     ]
    },
    {
     "name": "stderr",
     "output_type": "stream",
     "text": [
      "Epoch: 100%|██████████| 20/20 [00:22<00:00,  1.14s/it]\n"
     ]
    },
    {
     "name": "stdout",
     "output_type": "stream",
     "text": [
      "trainig: 5 layers\n"
     ]
    },
    {
     "name": "stderr",
     "output_type": "stream",
     "text": [
      "Epoch: 100%|██████████| 20/20 [00:25<00:00,  1.25s/it]\n"
     ]
    },
    {
     "name": "stdout",
     "output_type": "stream",
     "text": [
      "trainig: 6 layers\n"
     ]
    },
    {
     "name": "stderr",
     "output_type": "stream",
     "text": [
      "Epoch: 100%|██████████| 20/20 [00:31<00:00,  1.58s/it]\n"
     ]
    },
    {
     "name": "stdout",
     "output_type": "stream",
     "text": [
      "trainig: 7 layers\n"
     ]
    },
    {
     "name": "stderr",
     "output_type": "stream",
     "text": [
      "Epoch: 100%|██████████| 20/20 [00:33<00:00,  1.66s/it]\n"
     ]
    },
    {
     "name": "stdout",
     "output_type": "stream",
     "text": [
      "trainig: 8 layers\n"
     ]
    },
    {
     "name": "stderr",
     "output_type": "stream",
     "text": [
      "Epoch: 100%|██████████| 20/20 [00:39<00:00,  1.96s/it]\n"
     ]
    },
    {
     "name": "stdout",
     "output_type": "stream",
     "text": [
      "trainig: 9 layers\n"
     ]
    },
    {
     "name": "stderr",
     "output_type": "stream",
     "text": [
      "Epoch: 100%|██████████| 20/20 [00:41<00:00,  2.06s/it]\n"
     ]
    },
    {
     "name": "stdout",
     "output_type": "stream",
     "text": [
      "trainig: 10 layers\n"
     ]
    },
    {
     "name": "stderr",
     "output_type": "stream",
     "text": [
      "Epoch: 100%|██████████| 20/20 [00:38<00:00,  1.93s/it]\n"
     ]
    },
    {
     "name": "stdout",
     "output_type": "stream",
     "text": [
      "trainig: 11 layers\n"
     ]
    },
    {
     "name": "stderr",
     "output_type": "stream",
     "text": [
      "Epoch: 100%|██████████| 20/20 [00:47<00:00,  2.36s/it]\n"
     ]
    },
    {
     "name": "stdout",
     "output_type": "stream",
     "text": [
      "trainig: 12 layers\n"
     ]
    },
    {
     "name": "stderr",
     "output_type": "stream",
     "text": [
      "Epoch: 100%|██████████| 20/20 [00:55<00:00,  2.76s/it]\n"
     ]
    },
    {
     "name": "stdout",
     "output_type": "stream",
     "text": [
      "trainig: 13 layers\n"
     ]
    },
    {
     "name": "stderr",
     "output_type": "stream",
     "text": [
      "Epoch: 100%|██████████| 20/20 [00:58<00:00,  2.91s/it]\n"
     ]
    },
    {
     "name": "stdout",
     "output_type": "stream",
     "text": [
      "trainig: 14 layers\n"
     ]
    },
    {
     "name": "stderr",
     "output_type": "stream",
     "text": [
      "Epoch: 100%|██████████| 20/20 [01:10<00:00,  3.50s/it]\n"
     ]
    },
    {
     "name": "stdout",
     "output_type": "stream",
     "text": [
      "trainig: 15 layers\n"
     ]
    },
    {
     "name": "stderr",
     "output_type": "stream",
     "text": [
      "Epoch: 100%|██████████| 20/20 [01:06<00:00,  3.32s/it]\n"
     ]
    },
    {
     "name": "stdout",
     "output_type": "stream",
     "text": [
      "trainig: 16 layers\n"
     ]
    },
    {
     "name": "stderr",
     "output_type": "stream",
     "text": [
      "Epoch: 100%|██████████| 20/20 [01:06<00:00,  3.32s/it]\n"
     ]
    },
    {
     "name": "stdout",
     "output_type": "stream",
     "text": [
      "trainig: 17 layers\n"
     ]
    },
    {
     "name": "stderr",
     "output_type": "stream",
     "text": [
      "Epoch: 100%|██████████| 20/20 [01:12<00:00,  3.64s/it]\n"
     ]
    },
    {
     "name": "stdout",
     "output_type": "stream",
     "text": [
      "trainig: 18 layers\n"
     ]
    },
    {
     "name": "stderr",
     "output_type": "stream",
     "text": [
      "Epoch: 100%|██████████| 20/20 [01:02<00:00,  3.14s/it]\n"
     ]
    },
    {
     "name": "stdout",
     "output_type": "stream",
     "text": [
      "trainig: 19 layers\n"
     ]
    },
    {
     "name": "stderr",
     "output_type": "stream",
     "text": [
      "Epoch: 100%|██████████| 20/20 [01:03<00:00,  3.16s/it]\n",
      "/tmp/ipykernel_1840/1475513000.py:47: UserWarning: No artists with labels found to put in legend.  Note that artists whose label start with an underscore are ignored when legend() is called with no argument.\n",
      "  plt.legend()\n"
     ]
    }
   ],
   "source": [
    "from sklearn.datasets import make_moons\n",
    "import torch\n",
    "from torch.utils.data import TensorDataset\n",
    "from torch.utils.data import DataLoader\n",
    "import optuna\n",
    "import torch.nn as nn\n",
    "import numpy as np\n",
    "import seaborn as sns\n",
    "import matplotlib.pyplot as plt\n",
    "from utils import (train_network, accuracy_score_wrapper, \n",
    "                f1_score_wrapper, roc_auc_score_micro_wrapper, \n",
    "                weight_reset, set_seed)\n",
    "from torchinfo import summary\n",
    "from mlflow import MlflowClient\n",
    "from mlflow.types import Schema, TensorSpec\n",
    "from mlflow.models import ModelSignature\n",
    "\n",
    "\n",
    "random_state = 42\n",
    "set_seed(random_state)\n",
    "\n",
    "X_train, Y_train = make_moons(n_samples=8000, noise=0.4, random_state=random_state)\n",
    "X_valid, Y_valid = make_moons(n_samples=200, noise=0.4, random_state=random_state)\n",
    "\n",
    "train_dataset = TensorDataset(torch.tensor(X_train, dtype=torch.float32),\n",
    "                            torch.tensor(Y_train, dtype=torch.long))\n",
    "valid_dataset = TensorDataset(torch.tensor(X_valid, dtype=torch.float32),\n",
    "                            torch.tensor(Y_valid, dtype=torch.long))\n",
    "\n",
    "\n",
    "def plot_results(data_df, close=True):\n",
    "    sns.lineplot(data_df, x='epoch', y='valid AUC', label='valid AUC')\n",
    "    plt.xlabel('epoch')\n",
    "    plt.ylabel('valid AUC')\n",
    "    plt.title('valid AUC')\n",
    "    fig = plt.gcf()\n",
    "    if close:\n",
    "        plt.close()\n",
    "    return fig\n",
    "\n",
    "def plot_results_layers(data_list, close=True):\n",
    "    sns.lineplot(x=range(len(data_list)), y=data_list)\n",
    "    plt.xlabel('layers')\n",
    "    plt.ylabel('valid AUC')\n",
    "    plt.title('valid AUC per layer')\n",
    "    plt.xticks(range(len(data_list)))\n",
    "    plt.legend()\n",
    "    fig = plt.gcf()\n",
    "    if close:\n",
    "        plt.close()\n",
    "    return fig\n",
    "\n",
    "run_id = '219aed50bb7f4f8cbe70429ade80c1a5' # best valid auc from exercise 2\n",
    "\n",
    "client = MlflowClient()\n",
    "run_data = client.get_run(run_id).data\n",
    "\n",
    "params = run_data.params\n",
    "epochs = 20\n",
    "in_features = 2\n",
    "out_features = 2\n",
    "device = torch.device('cuda') if torch.cuda.is_available() else torch.device('cpu')\n",
    "params['device'] = device\n",
    "params['epochs'] = epochs\n",
    "loss_func = nn.CrossEntropyLoss()\n",
    "activation_functions = {\n",
    "'ReLU': nn.ReLU(),\n",
    "'Tanh': nn.Tanh(),\n",
    "'LeakyReLU': nn.LeakyReLU(),\n",
    "'Sigmoid': nn.Sigmoid()\n",
    "}\n",
    "\n",
    "train_dataloader = DataLoader(train_dataset, batch_size=int(params['batch_size']),shuffle=True)\n",
    "valid_dataloader = DataLoader(valid_dataset, batch_size=int(params['batch_size']))\n",
    "\n",
    "results_layers = []\n",
    "layers = 20\n",
    "for layer in range(layers):\n",
    "    print(f'trainig: {layer} layers')\n",
    "    params['layers'] = layer\n",
    "    sequential_layer = [\n",
    "    nn.Linear(in_features, int(params['hidden_neurons'])),\n",
    "    activation_functions[params['activation']]\n",
    "    ]\n",
    "    for _ in range(layer):\n",
    "        sequential_layer.append(nn.Linear(int(params['hidden_neurons']), int(params['hidden_neurons'])))\n",
    "        sequential_layer.append(activation_functions[params['activation']])\n",
    "    sequential_layer.append(nn.Linear(int(params['hidden_neurons']), out_features))\n",
    "\n",
    "    model = nn.Sequential(*sequential_layer)\n",
    "    optimizer = torch.optim.SGD(model.parameters(), lr=float(params['learning_rate']))\n",
    "\n",
    "    with mlflow.start_run(nested=True, run_name=f'layers_{layer}'):\n",
    "        mlflow.log_params(params)\n",
    "\n",
    "        \n",
    "        with open (\"model_summary.txt\", \"w\") as f:\n",
    "            f.write(str(summary(model)))\n",
    "        mlflow.log_artifact(\"model_summary.txt\")\n",
    "        # model.apply(weight_reset)\n",
    "        fc_results = train_network(\n",
    "            model=model,\n",
    "            loss_func=loss_func,\n",
    "            train_loader=train_dataloader,\n",
    "            valid_loader=valid_dataloader,\n",
    "            epochs=epochs,\n",
    "            optimizer=optimizer,\n",
    "            score_funcs={'Acc':accuracy_score_wrapper, 'F1':f1_score_wrapper, 'AUC':roc_auc_score_micro_wrapper },\n",
    "            device=device,\n",
    "            # checkpoint_file_save='model.pth',\n",
    "            # checkpoint_every_x=10,\n",
    "        )\n",
    "        \n",
    "        # input_schema = Schema([TensorSpec(np.dtype(np.float32), (-1, 2))])\n",
    "        # output_schema = Schema([TensorSpec(np.dtype(np.float32), (-1, 2))])\n",
    "        # signature = ModelSignature(inputs=input_schema, outputs=output_schema)\n",
    "        # mlflow.pytorch.log_model(model, \"model\", signature=signature)\n",
    "        mlflow.log_figure(plot_results(fc_results), \"valid_AUC.png\")\n",
    "    results_layers.append(fc_results['valid AUC'].iloc[-1])\n",
    "mlflow.log_figure(plot_results_layers(results_layers), 'valid_auc_per_layer.png')"
   ]
  },
  {
   "cell_type": "markdown",
   "metadata": {},
   "source": [
    "<img src='./images/valid_auc_layers.png' width=800>"
   ]
  },
  {
   "cell_type": "markdown",
   "metadata": {},
   "source": [
    "<img src='./images/valid_auc_per_layer.png' width=800>"
   ]
  },
  {
   "cell_type": "markdown",
   "metadata": {},
   "source": [
    "## 6"
   ]
  },
  {
   "cell_type": "markdown",
   "metadata": {},
   "source": [
    "<img src='./images/06.png' width=800>"
   ]
  },
  {
   "cell_type": "code",
   "execution_count": 9,
   "metadata": {},
   "outputs": [
    {
     "name": "stderr",
     "output_type": "stream",
     "text": [
      "2025/04/07 18:14:00 INFO mlflow.tracking.fluent: Experiment with name 'Exercise_6' does not exist. Creating a new experiment.\n"
     ]
    },
    {
     "data": {
      "text/plain": [
       "<Experiment: artifact_location='file:///home/spakdel/my_projects/Books/Inside-Deep-Learning/Exercises_InsideDeepLearning/Chapter_02/mlruns/688296389628558366', creation_time=1744037040958, experiment_id='688296389628558366', last_update_time=1744037040958, lifecycle_stage='active', name='Exercise_6', tags={}>"
      ]
     },
     "execution_count": 9,
     "metadata": {},
     "output_type": "execute_result"
    }
   ],
   "source": [
    "mlflow.set_experiment('Exercise_6')"
   ]
  },
  {
   "cell_type": "code",
   "execution_count": 10,
   "metadata": {},
   "outputs": [
    {
     "name": "stdout",
     "output_type": "stream",
     "text": [
      "trainig: 100 neurons\n"
     ]
    },
    {
     "name": "stderr",
     "output_type": "stream",
     "text": [
      "Epoch: 100%|██████████| 20/20 [00:07<00:00,  2.51it/s]\n"
     ]
    },
    {
     "name": "stdout",
     "output_type": "stream",
     "text": [
      "trainig: 200 neurons\n"
     ]
    },
    {
     "name": "stderr",
     "output_type": "stream",
     "text": [
      "Epoch: 100%|██████████| 20/20 [00:09<00:00,  2.08it/s]\n"
     ]
    },
    {
     "name": "stdout",
     "output_type": "stream",
     "text": [
      "trainig: 300 neurons\n"
     ]
    },
    {
     "name": "stderr",
     "output_type": "stream",
     "text": [
      "Epoch: 100%|██████████| 20/20 [00:18<00:00,  1.08it/s]\n"
     ]
    },
    {
     "name": "stdout",
     "output_type": "stream",
     "text": [
      "trainig: 400 neurons\n"
     ]
    },
    {
     "name": "stderr",
     "output_type": "stream",
     "text": [
      "Epoch: 100%|██████████| 20/20 [00:27<00:00,  1.36s/it]\n"
     ]
    },
    {
     "name": "stdout",
     "output_type": "stream",
     "text": [
      "trainig: 500 neurons\n"
     ]
    },
    {
     "name": "stderr",
     "output_type": "stream",
     "text": [
      "Epoch: 100%|██████████| 20/20 [00:30<00:00,  1.53s/it]\n"
     ]
    },
    {
     "name": "stdout",
     "output_type": "stream",
     "text": [
      "trainig: 600 neurons\n"
     ]
    },
    {
     "name": "stderr",
     "output_type": "stream",
     "text": [
      "Epoch: 100%|██████████| 20/20 [00:35<00:00,  1.79s/it]\n"
     ]
    },
    {
     "name": "stdout",
     "output_type": "stream",
     "text": [
      "trainig: 700 neurons\n"
     ]
    },
    {
     "name": "stderr",
     "output_type": "stream",
     "text": [
      "Epoch: 100%|██████████| 20/20 [00:48<00:00,  2.45s/it]\n"
     ]
    },
    {
     "name": "stdout",
     "output_type": "stream",
     "text": [
      "trainig: 800 neurons\n"
     ]
    },
    {
     "name": "stderr",
     "output_type": "stream",
     "text": [
      "Epoch: 100%|██████████| 20/20 [00:54<00:00,  2.73s/it]\n"
     ]
    },
    {
     "name": "stdout",
     "output_type": "stream",
     "text": [
      "trainig: 900 neurons\n"
     ]
    },
    {
     "name": "stderr",
     "output_type": "stream",
     "text": [
      "Epoch: 100%|██████████| 20/20 [01:12<00:00,  3.62s/it]\n"
     ]
    }
   ],
   "source": [
    "from sklearn.datasets import make_moons\n",
    "import torch\n",
    "from torch.utils.data import TensorDataset\n",
    "from torch.utils.data import DataLoader\n",
    "import optuna\n",
    "import torch.nn as nn\n",
    "import numpy as np\n",
    "import seaborn as sns\n",
    "import matplotlib.pyplot as plt\n",
    "from utils import (train_network, accuracy_score_wrapper, \n",
    "                f1_score_wrapper, roc_auc_score_micro_wrapper, \n",
    "                weight_reset, set_seed)\n",
    "from torchinfo import summary\n",
    "from mlflow import MlflowClient\n",
    "from mlflow.types import Schema, TensorSpec\n",
    "from mlflow.models import ModelSignature\n",
    "\n",
    "\n",
    "random_state = 42\n",
    "set_seed(random_state)\n",
    "\n",
    "X_train, Y_train = make_moons(n_samples=8000, noise=0.4, random_state=random_state)\n",
    "X_valid, Y_valid = make_moons(n_samples=200, noise=0.4, random_state=random_state)\n",
    "\n",
    "train_dataset = TensorDataset(torch.tensor(X_train, dtype=torch.float32),\n",
    "                            torch.tensor(Y_train, dtype=torch.long))\n",
    "valid_dataset = TensorDataset(torch.tensor(X_valid, dtype=torch.float32),\n",
    "                            torch.tensor(Y_valid, dtype=torch.long))\n",
    "\n",
    "\n",
    "def plot_results(data_df, close=True):\n",
    "    sns.lineplot(data_df, x='epoch', y='valid AUC', label='valid AUC')\n",
    "    plt.xlabel('epoch')\n",
    "    plt.ylabel('valid AUC')\n",
    "    plt.title('valid AUC')\n",
    "    fig = plt.gcf()\n",
    "    if close:\n",
    "        plt.close()\n",
    "    return fig\n",
    "\n",
    "def plot_results_hidden_neurons(data_list, close=True):\n",
    "    sns.lineplot(x=range(100, 100*(len(data_list)+1), 100), y=data_list)\n",
    "    plt.xlabel('hidden neurons')\n",
    "    plt.ylabel('valid AUC')\n",
    "    plt.title('valid AUC per hidden neurons')\n",
    "    plt.xticks(range(100, 100*(len(data_list)+1), 100))\n",
    "    fig = plt.gcf()\n",
    "    if close:\n",
    "        plt.close()\n",
    "    return fig\n",
    "\n",
    "run_id = '219aed50bb7f4f8cbe70429ade80c1a5' # best valid auc from exercise 2\n",
    "\n",
    "client = MlflowClient()\n",
    "run_data = client.get_run(run_id).data\n",
    "\n",
    "params = run_data.params\n",
    "epochs = 20\n",
    "in_features = 2\n",
    "out_features = 2\n",
    "device = torch.device('cuda') if torch.cuda.is_available() else torch.device('cpu')\n",
    "params['device'] = device\n",
    "params['epochs'] = epochs\n",
    "loss_func = nn.CrossEntropyLoss()\n",
    "activation_functions = {\n",
    "'ReLU': nn.ReLU(),\n",
    "'Tanh': nn.Tanh(),\n",
    "'LeakyReLU': nn.LeakyReLU(),\n",
    "'Sigmoid': nn.Sigmoid()\n",
    "}\n",
    "\n",
    "train_dataloader = DataLoader(train_dataset, batch_size=int(params['batch_size']),shuffle=True)\n",
    "valid_dataloader = DataLoader(valid_dataset, batch_size=int(params['batch_size']))\n",
    "\n",
    "results_neurons = []\n",
    "neurons = 1000\n",
    "for neuron in range(100, neurons, 100):\n",
    "    print(f'trainig: {neuron} neurons')\n",
    "    params['hidden_neurons'] = neuron\n",
    "    sequential_layer = [\n",
    "    nn.Linear(in_features, neuron),\n",
    "    activation_functions[params['activation']]\n",
    "    ]\n",
    "    for _ in range(int(params['layers'])):\n",
    "        sequential_layer.append(nn.Linear(neuron, neuron))\n",
    "        sequential_layer.append(activation_functions[params['activation']])\n",
    "    sequential_layer.append(nn.Linear(neuron, out_features))\n",
    "\n",
    "    model = nn.Sequential(*sequential_layer)\n",
    "    optimizer = torch.optim.SGD(model.parameters(), lr=float(params['learning_rate']))\n",
    "\n",
    "    with mlflow.start_run(nested=True, run_name=f'neurons_{neuron}'):\n",
    "        mlflow.log_params(params)\n",
    "\n",
    "        \n",
    "        with open (\"model_summary.txt\", \"w\") as f:\n",
    "            f.write(str(summary(model)))\n",
    "        mlflow.log_artifact(\"model_summary.txt\")\n",
    "        # model.apply(weight_reset)\n",
    "        fc_results = train_network(\n",
    "            model=model,\n",
    "            loss_func=loss_func,\n",
    "            train_loader=train_dataloader,\n",
    "            valid_loader=valid_dataloader,\n",
    "            epochs=epochs,\n",
    "            optimizer=optimizer,\n",
    "            score_funcs={'Acc':accuracy_score_wrapper, 'F1':f1_score_wrapper, 'AUC':roc_auc_score_micro_wrapper },\n",
    "            device=device,\n",
    "            # checkpoint_file_save='model.pth',\n",
    "            # checkpoint_every_x=10,\n",
    "        )\n",
    "        \n",
    "        # input_schema = Schema([TensorSpec(np.dtype(np.float32), (-1, 2))])\n",
    "        # output_schema = Schema([TensorSpec(np.dtype(np.float32), (-1, 2))])\n",
    "        # signature = ModelSignature(inputs=input_schema, outputs=output_schema)\n",
    "        # mlflow.pytorch.log_model(model, \"model\", signature=signature)\n",
    "        mlflow.log_figure(plot_results(fc_results), \"valid_AUC.png\")\n",
    "    results_neurons.append(fc_results['valid AUC'].iloc[-1])\n",
    "mlflow.log_figure(plot_results_hidden_neurons(results_neurons), 'valid_auc_per_hidden_neurons.png')"
   ]
  },
  {
   "cell_type": "markdown",
   "metadata": {},
   "source": [
    "<img src='./images/valid_auc_hidden_neurons.png' width=800>"
   ]
  },
  {
   "cell_type": "markdown",
   "metadata": {},
   "source": [
    "<img src='./images/valid_auc_per_hidden_neurons.png' width=800>"
   ]
  },
  {
   "cell_type": "markdown",
   "metadata": {},
   "source": [
    "## 7"
   ]
  },
  {
   "cell_type": "markdown",
   "metadata": {},
   "source": [
    "<img src='./images/07.png' width=800>"
   ]
  },
  {
   "cell_type": "code",
   "execution_count": 2,
   "metadata": {},
   "outputs": [
    {
     "name": "stderr",
     "output_type": "stream",
     "text": [
      "2025/04/07 17:42:03 INFO mlflow.tracking.fluent: Experiment with name 'Exercise_7' does not exist. Creating a new experiment.\n"
     ]
    },
    {
     "data": {
      "text/plain": [
       "<Experiment: artifact_location='file:///home/spakdel/my_projects/Books/Inside-Deep-Learning/Exercises_InsideDeepLearning/Chapter_02/mlruns/904989942481923738', creation_time=1744035123832, experiment_id='904989942481923738', last_update_time=1744035123832, lifecycle_stage='active', name='Exercise_7', tags={}>"
      ]
     },
     "execution_count": 2,
     "metadata": {},
     "output_type": "execute_result"
    }
   ],
   "source": [
    "import mlflow\n",
    "mlflow.set_experiment('Exercise_7')"
   ]
  },
  {
   "cell_type": "code",
   "execution_count": 3,
   "metadata": {},
   "outputs": [
    {
     "name": "stderr",
     "output_type": "stream",
     "text": [
      "/home/spakdel/miniconda3/envs/python3.12/lib/python3.12/site-packages/tqdm/auto.py:21: TqdmWarning: IProgress not found. Please update jupyter and ipywidgets. See https://ipywidgets.readthedocs.io/en/stable/user_install.html\n",
      "  from .autonotebook import tqdm as notebook_tqdm\n"
     ]
    }
   ],
   "source": [
    "from sklearn.datasets import make_moons\n",
    "import torch\n",
    "from torch.utils.data import TensorDataset, random_split\n",
    "from torch.utils.data import DataLoader\n",
    "import optuna\n",
    "import torch.nn as nn\n",
    "import numpy as np\n",
    "import seaborn as sns\n",
    "import matplotlib.pyplot as plt\n",
    "from utils import (train_network, accuracy_score_wrapper, \n",
    "                f1_score_wrapper, roc_auc_score_micro_wrapper, \n",
    "                weight_reset, set_seed)\n",
    "from torchinfo import summary\n",
    "import optuna\n",
    "from mlflow.types import Schema, TensorSpec\n",
    "from mlflow.models import ModelSignature"
   ]
  },
  {
   "cell_type": "code",
   "execution_count": 4,
   "metadata": {},
   "outputs": [],
   "source": [
    "from sklearn.datasets import load_breast_cancer\n",
    "data = load_breast_cancer()"
   ]
  },
  {
   "cell_type": "code",
   "execution_count": 5,
   "metadata": {},
   "outputs": [],
   "source": [
    "random_state = 42\n",
    "set_seed(random_state)\n",
    "dataset = TensorDataset(\n",
    "    torch.tensor(data.data, dtype=torch.float32),\n",
    "    torch.tensor(data.target, dtype=torch.long)\n",
    "    )\n",
    "train_size = int(len(data.data) * 0.8)\n",
    "valid_size = len(data.data) - train_size\n",
    "\n",
    "train_dataset, valid_dataset = random_split(dataset, [train_size, valid_size])\n",
    "\n",
    "in_features = dataset.tensors[0].shape[1]\n",
    "out_features = len(torch.unique(dataset.tensors[1]))\n",
    "loss_func = nn.CrossEntropyLoss()\n",
    "activation_functions = {\n",
    "'ReLU': nn.ReLU(),\n",
    "'Tanh': nn.Tanh(),\n",
    "'LeakyReLU': nn.LeakyReLU(),\n",
    "'Sigmoid': nn.Sigmoid()\n",
    "}"
   ]
  },
  {
   "cell_type": "code",
   "execution_count": null,
   "metadata": {},
   "outputs": [
    {
     "name": "stderr",
     "output_type": "stream",
     "text": [
      "Epoch: 100%|██████████| 20/20 [00:03<00:00,  6.58it/s]\n"
     ]
    },
    {
     "name": "stdout",
     "output_type": "stream",
     "text": [
      "Initial trial 0 achived value: 0.7472527472527473\n"
     ]
    },
    {
     "name": "stderr",
     "output_type": "stream",
     "text": [
      "Epoch: 100%|██████████| 20/20 [00:02<00:00,  6.90it/s]\n",
      "Epoch: 100%|██████████| 20/20 [00:04<00:00,  4.67it/s]\n",
      "Epoch: 100%|██████████| 20/20 [00:03<00:00,  6.26it/s]\n",
      "Epoch: 100%|██████████| 20/20 [00:05<00:00,  3.62it/s]\n",
      "Epoch: 100%|██████████| 20/20 [00:01<00:00, 12.07it/s]\n",
      "Epoch: 100%|██████████| 20/20 [00:03<00:00,  6.25it/s]\n",
      "Epoch: 100%|██████████| 20/20 [00:01<00:00, 16.39it/s]\n"
     ]
    },
    {
     "name": "stdout",
     "output_type": "stream",
     "text": [
      "Trial 7 achived value: 0.9154929577464789 with 18.3770% improvment\n"
     ]
    },
    {
     "name": "stderr",
     "output_type": "stream",
     "text": [
      "Epoch: 100%|██████████| 20/20 [00:02<00:00,  7.23it/s]\n",
      "Epoch: 100%|██████████| 20/20 [00:03<00:00,  6.06it/s]\n",
      "Epoch: 100%|██████████| 20/20 [00:01<00:00, 13.50it/s]\n",
      "Epoch: 100%|██████████| 20/20 [00:01<00:00, 15.94it/s]\n",
      "Epoch: 100%|██████████| 20/20 [00:01<00:00, 14.28it/s]\n",
      "Epoch: 100%|██████████| 20/20 [00:01<00:00, 11.05it/s]\n",
      "Epoch: 100%|██████████| 20/20 [00:01<00:00, 15.34it/s]\n",
      "Epoch: 100%|██████████| 20/20 [00:01<00:00, 15.42it/s]\n",
      "Epoch: 100%|██████████| 20/20 [00:01<00:00, 10.57it/s]\n",
      "Epoch: 100%|██████████| 20/20 [00:02<00:00,  8.34it/s]\n",
      "Epoch: 100%|██████████| 20/20 [00:01<00:00, 10.20it/s]\n",
      "Epoch: 100%|██████████| 20/20 [00:02<00:00,  8.50it/s]\n"
     ]
    },
    {
     "name": "stdout",
     "output_type": "stream",
     "text": [
      "Champion trial: 7 with value 0.9154929577464789\n"
     ]
    }
   ],
   "source": [
    "def plot_results(data_df, close=True):\n",
    "    sns.lineplot(data_df, x='epoch', y='valid F1', label='valid F1')\n",
    "    plt.xlabel('epoch')\n",
    "    plt.ylabel('valid F1')\n",
    "    plt.title('valid F1')\n",
    "    fig = plt.gcf()\n",
    "    if close:\n",
    "        plt.close()\n",
    "    return fig\n",
    "    \n",
    "device = torch.device('cuda') if torch.cuda.is_available() else torch.device('cpu')\n",
    "\n",
    "optuna.logging.set_verbosity(optuna.logging.ERROR)\n",
    "\n",
    "def champion_callback(study, frozen_trial):\n",
    "    winner = study.user_attrs.get('winner', None)\n",
    "    if winner is None:\n",
    "        print(f'Initial trial {frozen_trial.number} achived value: {frozen_trial.value}')\n",
    "    elif winner != study.best_value and study.best_value:   # second condition is for preventing zero devision\n",
    "        improvment_percent = (abs(winner - study.best_value) / abs(study.best_value)) * 100\n",
    "        print(f'Trial {frozen_trial.number} achived value: {frozen_trial.value} with {improvment_percent:.4f}% improvment')\n",
    "    study.set_user_attr('winner', study.best_value)\n",
    "\n",
    "\n",
    "def objective(trial):\n",
    "    params = {\n",
    "    'batch_size': trial.suggest_int('batch_size', 16, 256),\n",
    "    'device': device,\n",
    "    'epochs' : epochs,\n",
    "    # 'optimizer': optimizer.defaults,\n",
    "    'loss_function': loss_func.__class__.__name__,\n",
    "    'learning_rate': trial.suggest_float('lr', 1e-8, 1, log=True),\n",
    "    'hidden_neurons': trial.suggest_int(\"neuron_per_layer\", in_features, 500),\n",
    "    'layers': trial.suggest_int(\"hidden_layers\", 1, 20),\n",
    "    'activation': trial.suggest_categorical(\"activation\", list(activation_functions.keys()))\n",
    "    }\n",
    "    sequential_layer = [\n",
    "        nn.Linear(in_features, params['hidden_neurons']),\n",
    "        activation_functions[params['activation']]\n",
    "    ]\n",
    "    for _ in range(params['layers']):\n",
    "        sequential_layer.append(nn.Linear(params['hidden_neurons'], params['hidden_neurons']))\n",
    "        sequential_layer.append(activation_functions[params['activation']])\n",
    "    sequential_layer.append(nn.Linear(params['hidden_neurons'], out_features))\n",
    "\n",
    "    model = nn.Sequential(*sequential_layer)\n",
    "    \n",
    "    # run_name = f'trial_lr_{params[\"learning_rate\"]:.8f}'\n",
    "    run_name = f'trial: {trial.number}'\n",
    "    with mlflow.start_run(nested=True, run_name=run_name):\n",
    "\n",
    "        optimizer = torch.optim.SGD(model.parameters(), lr=params['learning_rate'])\n",
    "        params['optimizer'] = optimizer.defaults\n",
    "        mlflow.log_params(params)\n",
    "\n",
    "        train_dataloader = DataLoader(train_dataset, batch_size=params['batch_size'],shuffle=True)\n",
    "        valid_dataloader = DataLoader(valid_dataset, batch_size=params['batch_size'])\n",
    "        \n",
    "        with open (\"model_summary.txt\", \"w\") as f:\n",
    "            f.write(str(summary(model)))\n",
    "        mlflow.log_artifact(\"model_summary.txt\")\n",
    "\n",
    "        model.apply(weight_reset)\n",
    "        fc_results = train_network(\n",
    "            model=model,\n",
    "            loss_func=loss_func,\n",
    "            train_loader=train_dataloader,\n",
    "            valid_loader=valid_dataloader,\n",
    "            epochs=epochs,\n",
    "            optimizer=optimizer,\n",
    "            score_funcs={'Acc':accuracy_score_wrapper, 'F1':f1_score_wrapper, 'AUC':roc_auc_score_micro_wrapper },\n",
    "            device=device,\n",
    "            # checkpont_file_save='model.pth'\n",
    "        )\n",
    "        \n",
    "        # input_schema = Schema([TensorSpec(np.dtype(np.float32), (-1, in_features))])\n",
    "        # output_schema = Schema([TensorSpec(np.dtype(np.float32), (-1, out_features))])\n",
    "        # signature = ModelSignature(inputs=input_schema, outputs=output_schema)\n",
    "        # mlflow.pytorch.log_model(model, \"model\", signature=signature)\n",
    "        mlflow.log_figure(plot_results(fc_results), \"valid_F1.png\")\n",
    "    return  fc_results['valid F1'].iloc[-1]\n",
    "\n",
    "epochs = 20\n",
    "study = optuna.create_study(direction='maximize')\n",
    "study.optimize(objective, n_trials=20, callbacks=[champion_callback])\n",
    "champion_trial = study.best_trial\n",
    "print(f\"Champion trial: {champion_trial.number} with value {champion_trial.value}\")"
   ]
  },
  {
   "cell_type": "markdown",
   "metadata": {},
   "source": [
    "<img src='./images/exercise07.png' width=800>"
   ]
  },
  {
   "cell_type": "markdown",
   "metadata": {},
   "source": [
    "<img src='./images/train_valid_f1.png' width=800>"
   ]
  },
  {
   "cell_type": "markdown",
   "metadata": {},
   "source": [
    "## 8"
   ]
  },
  {
   "cell_type": "markdown",
   "metadata": {},
   "source": [
    "<img src='./images/08.png' width=800>"
   ]
  },
  {
   "cell_type": "code",
   "execution_count": 1,
   "metadata": {},
   "outputs": [
    {
     "name": "stderr",
     "output_type": "stream",
     "text": [
      "2025/04/08 14:06:53 INFO mlflow.tracking.fluent: Experiment with name 'Exercise_8' does not exist. Creating a new experiment.\n"
     ]
    },
    {
     "data": {
      "text/plain": [
       "<Experiment: artifact_location='file:///home/spakdel/my_projects/Books/Inside-Deep-Learning/Exercises_InsideDeepLearning/Chapter_02/mlruns/476357225522364280', creation_time=1744108613358, experiment_id='476357225522364280', last_update_time=1744108613358, lifecycle_stage='active', name='Exercise_8', tags={}>"
      ]
     },
     "execution_count": 1,
     "metadata": {},
     "output_type": "execute_result"
    }
   ],
   "source": [
    "import mlflow\n",
    "mlflow.set_experiment('Exercise_8')"
   ]
  },
  {
   "cell_type": "code",
   "execution_count": 2,
   "metadata": {},
   "outputs": [
    {
     "name": "stderr",
     "output_type": "stream",
     "text": [
      "/home/spakdel/miniconda3/envs/python3.12/lib/python3.12/site-packages/tqdm/auto.py:21: TqdmWarning: IProgress not found. Please update jupyter and ipywidgets. See https://ipywidgets.readthedocs.io/en/stable/user_install.html\n",
      "  from .autonotebook import tqdm as notebook_tqdm\n"
     ]
    },
    {
     "name": "stdout",
     "output_type": "stream",
     "text": [
      "trainig: 2 batch sizes\n"
     ]
    },
    {
     "name": "stderr",
     "output_type": "stream",
     "text": [
      "Epoch: 100%|██████████| 20/20 [01:07<00:00,  3.38s/it]\n"
     ]
    },
    {
     "name": "stdout",
     "output_type": "stream",
     "text": [
      "trainig: 4 batch sizes\n"
     ]
    },
    {
     "name": "stderr",
     "output_type": "stream",
     "text": [
      "Epoch: 100%|██████████| 20/20 [00:36<00:00,  1.84s/it]\n"
     ]
    },
    {
     "name": "stdout",
     "output_type": "stream",
     "text": [
      "trainig: 8 batch sizes\n"
     ]
    },
    {
     "name": "stderr",
     "output_type": "stream",
     "text": [
      "Epoch: 100%|██████████| 20/20 [00:22<00:00,  1.15s/it]\n"
     ]
    },
    {
     "name": "stdout",
     "output_type": "stream",
     "text": [
      "trainig: 16 batch sizes\n"
     ]
    },
    {
     "name": "stderr",
     "output_type": "stream",
     "text": [
      "Epoch: 100%|██████████| 20/20 [00:12<00:00,  1.57it/s]\n"
     ]
    },
    {
     "name": "stdout",
     "output_type": "stream",
     "text": [
      "trainig: 32 batch sizes\n"
     ]
    },
    {
     "name": "stderr",
     "output_type": "stream",
     "text": [
      "Epoch: 100%|██████████| 20/20 [00:08<00:00,  2.30it/s]\n"
     ]
    },
    {
     "name": "stdout",
     "output_type": "stream",
     "text": [
      "trainig: 64 batch sizes\n"
     ]
    },
    {
     "name": "stderr",
     "output_type": "stream",
     "text": [
      "Epoch: 100%|██████████| 20/20 [00:05<00:00,  3.45it/s]\n"
     ]
    },
    {
     "name": "stdout",
     "output_type": "stream",
     "text": [
      "trainig: 128 batch sizes\n"
     ]
    },
    {
     "name": "stderr",
     "output_type": "stream",
     "text": [
      "Epoch: 100%|██████████| 20/20 [00:04<00:00,  4.54it/s]\n"
     ]
    },
    {
     "name": "stdout",
     "output_type": "stream",
     "text": [
      "trainig: 256 batch sizes\n"
     ]
    },
    {
     "name": "stderr",
     "output_type": "stream",
     "text": [
      "Epoch: 100%|██████████| 20/20 [00:03<00:00,  5.27it/s]\n"
     ]
    },
    {
     "name": "stdout",
     "output_type": "stream",
     "text": [
      "trainig: 512 batch sizes\n"
     ]
    },
    {
     "name": "stderr",
     "output_type": "stream",
     "text": [
      "Epoch: 100%|██████████| 20/20 [00:03<00:00,  6.37it/s]\n"
     ]
    },
    {
     "name": "stdout",
     "output_type": "stream",
     "text": [
      "trainig: 1024 batch sizes\n"
     ]
    },
    {
     "name": "stderr",
     "output_type": "stream",
     "text": [
      "Epoch: 100%|██████████| 20/20 [00:03<00:00,  5.10it/s]\n"
     ]
    },
    {
     "name": "stdout",
     "output_type": "stream",
     "text": [
      "trainig: 2048 batch sizes\n"
     ]
    },
    {
     "name": "stderr",
     "output_type": "stream",
     "text": [
      "Epoch: 100%|██████████| 20/20 [00:03<00:00,  6.38it/s]\n"
     ]
    }
   ],
   "source": [
    "from sklearn.datasets import make_moons\n",
    "import torch\n",
    "from torch.utils.data import TensorDataset\n",
    "from torch.utils.data import DataLoader\n",
    "import optuna\n",
    "import torch.nn as nn\n",
    "import numpy as np\n",
    "import seaborn as sns\n",
    "import matplotlib.pyplot as plt\n",
    "from utils import (train_network, accuracy_score_wrapper, \n",
    "                f1_score_wrapper, roc_auc_score_micro_wrapper, \n",
    "                weight_reset, set_seed)\n",
    "from torchinfo import summary\n",
    "from mlflow import MlflowClient\n",
    "from mlflow.types import Schema, TensorSpec\n",
    "from mlflow.models import ModelSignature\n",
    "\n",
    "\n",
    "random_state = 42\n",
    "set_seed(random_state)\n",
    "\n",
    "X_train, Y_train = make_moons(n_samples=8000, noise=0.4, random_state=random_state)\n",
    "X_valid, Y_valid = make_moons(n_samples=200, noise=0.4, random_state=random_state)\n",
    "\n",
    "train_dataset = TensorDataset(torch.tensor(X_train, dtype=torch.float32),\n",
    "                            torch.tensor(Y_train, dtype=torch.long))\n",
    "valid_dataset = TensorDataset(torch.tensor(X_valid, dtype=torch.float32),\n",
    "                            torch.tensor(Y_valid, dtype=torch.long))\n",
    "\n",
    "batch_sizes = [2 ** i for i in range(1, 12)]\n",
    "\n",
    "def plot_results(data_df, close=True):\n",
    "    sns.lineplot(data_df, x='epoch', y='valid AUC', label='valid AUC')\n",
    "    plt.xlabel('epoch')\n",
    "    plt.ylabel('valid AUC')\n",
    "    plt.title('valid AUC')\n",
    "    fig = plt.gcf()\n",
    "    if close:\n",
    "        plt.close()\n",
    "    return fig\n",
    "\n",
    "def plot_results_batch_sizes(data_list, close=True):\n",
    "    sns.lineplot(x=batch_sizes, y=data_list)\n",
    "    plt.xlabel('batch sizes')\n",
    "    plt.ylabel('valid Acc')\n",
    "    plt.title('valid Acc per batch size')\n",
    "    # plt.xticks(batch_sizes)\n",
    "    fig = plt.gcf()\n",
    "    if close:\n",
    "        plt.close()\n",
    "    return fig\n",
    "\n",
    "def plot_time_batch_sizes(data_list, close=True):\n",
    "    sns.lineplot(x=batch_sizes, y=data_list)\n",
    "    plt.xlabel('batch sizes')\n",
    "    plt.ylabel('total time')\n",
    "    plt.title('total time per batch size')\n",
    "    # plt.xticks(batch_sizes)\n",
    "    fig = plt.gcf()\n",
    "    if close:\n",
    "        plt.close()\n",
    "    return fig\n",
    "\n",
    "epochs = 20\n",
    "in_features = 2\n",
    "out_features = 2\n",
    "device = torch.device('cuda') if torch.cuda.is_available() else torch.device('cpu')\n",
    "params = {'device': device,\n",
    "        'epochs': epochs}\n",
    "loss_func = nn.CrossEntropyLoss()\n",
    "\n",
    "\n",
    "model = nn.Sequential(\n",
    "    nn.Linear(2,  30),\n",
    "    nn.Tanh(),\n",
    "    nn.Linear(30,  30),\n",
    "    nn.Tanh(),\n",
    "    nn.Linear(30, 2),\n",
    ")\n",
    "optimizer = torch.optim.SGD(model.parameters(), lr=0.001)\n",
    "params['optimizer'] = optimizer.defaults\n",
    "results_batch_sizes = []\n",
    "time_batch_sizes = []\n",
    "for batch_size in batch_sizes:\n",
    "    print(f'trainig: {batch_size} batch sizes')\n",
    "    params['batch_size'] = batch_size\n",
    "    train_dataloader = DataLoader(train_dataset, batch_size=batch_size, shuffle=True)\n",
    "    valid_dataloader = DataLoader(valid_dataset, batch_size=batch_size)\n",
    "    with mlflow.start_run(nested=True, run_name=f'batch_size_{batch_size}'):\n",
    "        mlflow.log_params(params)\n",
    "        \n",
    "        with open (\"model_summary.txt\", \"w\") as f:\n",
    "            f.write(str(summary(model)))\n",
    "        mlflow.log_artifact(\"model_summary.txt\")\n",
    "        # model.apply(weight_reset)\n",
    "        fc_results = train_network(\n",
    "            model=model,\n",
    "            loss_func=loss_func,\n",
    "            train_loader=train_dataloader,\n",
    "            valid_loader=valid_dataloader,\n",
    "            epochs=epochs,\n",
    "            optimizer=optimizer,\n",
    "            score_funcs={'Acc':accuracy_score_wrapper, 'F1':f1_score_wrapper, 'AUC':roc_auc_score_micro_wrapper },\n",
    "            device=device,\n",
    "            # checkpoint_file_save='model.pth',\n",
    "            # checkpoint_every_x=10,\n",
    "        )\n",
    "        \n",
    "        # input_schema = Schema([TensorSpec(np.dtype(np.float32), (-1, 2))])\n",
    "        # output_schema = Schema([TensorSpec(np.dtype(np.float32), (-1, 2))])\n",
    "        # signature = ModelSignature(inputs=input_schema, outputs=output_schema)\n",
    "        # mlflow.pytorch.log_model(model, \"model\", signature=signature)\n",
    "        mlflow.log_figure(plot_results(fc_results), \"valid_AUC.png\")\n",
    "    results_batch_sizes.append(fc_results['valid Acc'].iloc[-1])\n",
    "    time_batch_sizes.append(fc_results['total time'].iloc[-1])\n",
    "mlflow.log_figure(plot_results_batch_sizes(results_batch_sizes), 'valid_acc_per_batch_sizes.png')\n",
    "mlflow.log_figure(plot_time_batch_sizes(time_batch_sizes), 'time_per_batch_sizes.png')\n"
   ]
  },
  {
   "cell_type": "markdown",
   "metadata": {},
   "source": [
    "<img src='./images/time_per_batch_sizes.png' width=800>"
   ]
  },
  {
   "cell_type": "markdown",
   "metadata": {},
   "source": [
    "<img src='./images/valid_acc_per_batch_sizes.png' width=800>"
   ]
  }
 ],
 "metadata": {
  "kernelspec": {
   "display_name": "Python 3",
   "language": "python",
   "name": "python3"
  },
  "language_info": {
   "codemirror_mode": {
    "name": "ipython",
    "version": 3
   },
   "file_extension": ".py",
   "mimetype": "text/x-python",
   "name": "python",
   "nbconvert_exporter": "python",
   "pygments_lexer": "ipython3",
   "version": "3.12.4"
  }
 },
 "nbformat": 4,
 "nbformat_minor": 2
}
